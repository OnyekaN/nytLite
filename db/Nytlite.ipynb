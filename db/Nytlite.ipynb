{
 "cells": [
  {
   "cell_type": "code",
   "execution_count": 188,
   "metadata": {},
   "outputs": [],
   "source": [
    "import os, re, sys, json, pickle, requests\n",
    "import pandas as pd\n",
    "from bs4 import BeautifulSoup\n",
    "from unidecode import unidecode"
   ]
  },
  {
   "cell_type": "code",
   "execution_count": 2,
   "metadata": {},
   "outputs": [],
   "source": [
    "nyt_home_link = \"https://www.nytimes.com/\"\n",
    "nyt_home_response = requests.get(nyt_home_link, timeout=5)\n",
    "nyt_home_soup = BeautifulSoup(nyt_home_response.content, \"html.parser\")"
   ]
  },
  {
   "cell_type": "code",
   "execution_count": 3,
   "metadata": {},
   "outputs": [],
   "source": [
    "nyt_articles = nyt_home_soup.find_all(\"article\")"
   ]
  },
  {
   "cell_type": "code",
   "execution_count": 4,
   "metadata": {},
   "outputs": [],
   "source": [
    "nyt_article_refs = list()\n",
    "for article in nyt_articles:\n",
    "    anchors = article.find_all(\"a\")\n",
    "    for a in anchors:\n",
    "        nyt_article_refs.append(a[\"href\"])"
   ]
  },
  {
   "cell_type": "code",
   "execution_count": 235,
   "metadata": {},
   "outputs": [],
   "source": [
    "nyt_article_refs = [href for href in nyt_article_refs if 'podcast' not in href]\n",
    "nyt_article_refs = [href for href in nyt_article_refs if 'interactive' not in href]\n",
    "nyt_article_refs = [href for href in nyt_article_refs if 'crosswords' not in href]\n",
    "nyt_article_refs = [href for href in nyt_article_refs if 'weekly' not in href]"
   ]
  },
  {
   "cell_type": "code",
   "execution_count": 236,
   "metadata": {},
   "outputs": [
    {
     "data": {
      "text/plain": [
       "[u'/2019/06/11/us/state-legislatures-partisan-polarized.html',\n",
       " u'/2019/06/11/us/state-legislatures-partisan-polarized.html#commentsContainer',\n",
       " u'/2019/06/11/us/politics/iowa-trump-biden.html',\n",
       " u'/2019/06/11/us/politics/arizona-2020-vote.html',\n",
       " u'/2019/06/10/us/politics/trump-mexico-tariffs-china.html',\n",
       " u'/2019/06/10/us/politics/trump-mexico-tariffs-china.html',\n",
       " u'/2019/06/10/us/politics/trump-mexico-tariffs-china.html#commentsContainer',\n",
       " u'/2019/06/11/magazine/universal-fire-master-recordings.html',\n",
       " u'/2019/06/11/magazine/universal-fire-master-recordings.html#commentsContainer',\n",
       " u'/2019/06/11/us/master-recordings-universal-fire.html',\n",
       " u'/2019/06/11/world/americas/brazil-cuba-doctors-jair-bolsonaro.html',\n",
       " u'/2019/06/11/world/americas/brazil-cuba-doctors-jair-bolsonaro.html',\n",
       " u'/2019/06/11/world/americas/brazil-cuba-doctors-jair-bolsonaro.html#commentsContainer',\n",
       " u'/2019/06/11/world/europe/budapest-danube-crash.html',\n",
       " u'/2019/06/10/magazine/womens-soccer-inequality-pay.html',\n",
       " u'/2019/06/10/magazine/womens-soccer-inequality-pay.html#commentsContainer',\n",
       " u'/2019/06/10/opinion/trump-mexico-tariffs-trade.html',\n",
       " u'/2019/06/10/opinion/trump-mexico-tariffs-trade.html#commentsContainer',\n",
       " u'/2019/06/10/opinion/trump-mexico-tariffs-trade.html',\n",
       " u'/2019/06/11/opinion/youtube-radicalization-algorithms.html',\n",
       " u'/2019/06/11/opinion/youtube-radicalization-algorithms.html#commentsContainer',\n",
       " u'/2019/06/11/opinion/police-dna-warrant.html',\n",
       " u'/2019/06/11/opinion/fully-automated-luxury-communism.html',\n",
       " u'/2019/06/11/opinion/organ-transplant-deaths.html',\n",
       " u'/2019/06/11/opinion/sudan-protests.html',\n",
       " u'/2019/06/10/opinion/trump-trade-tariffs.html',\n",
       " u'/2019/06/10/opinion/astrology-occult-millennials.html',\n",
       " u'/2019/06/10/opinion/deepfake-pelosi-video.html',\n",
       " u'/2019/06/10/opinion/hong-kong-protests.html',\n",
       " u'/2019/06/10/opinion/resistance-democrats-pelosi-schumer.html',\n",
       " u'/2019/06/11/style/youtube-mukbang-bloveslife-bethany-gaskin.html',\n",
       " u'/2019/06/11/style/youtube-mukbang-bloveslife-bethany-gaskin.html',\n",
       " u'/2019/06/11/style/youtube-mukbang-bloveslife-bethany-gaskin.html#commentsContainer',\n",
       " u'/2019/06/11/style/youtube-mukbang-bloveslife-bethany-gaskin.html',\n",
       " u'/2019/06/10/style/self-care/soho-wellness-pop-up.html',\n",
       " u'/2019/06/10/style/self-care/soho-wellness-pop-up.html#commentsContainer',\n",
       " u'/2019/06/10/style/self-care/soho-wellness-pop-up.html',\n",
       " u'/2019/06/10/books/review-capitalist-robert-menasse.html',\n",
       " u'/2019/06/10/books/review-capitalist-robert-menasse.html']"
      ]
     },
     "execution_count": 236,
     "metadata": {},
     "output_type": "execute_result"
    }
   ],
   "source": [
    "nyt_article_refs"
   ]
  },
  {
   "cell_type": "markdown",
   "metadata": {},
   "source": [
    "s = requests.session()\n",
    "\n",
    "response = s.get('https://nytimes.com/2019/05/17/briefing/iran-sat-taiwan.html')"
   ]
  },
  {
   "cell_type": "code",
   "execution_count": 237,
   "metadata": {},
   "outputs": [],
   "source": [
    "s = requests.session()\n",
    "response = s.get('https://nytimes.com/{0}'.format(nyt_article_refs[1]))\n",
    "soup = BeautifulSoup(response.content.decode('utf-8', 'ignore'), \"html.parser\")"
   ]
  },
  {
   "cell_type": "code",
   "execution_count": 253,
   "metadata": {},
   "outputs": [],
   "source": [
    "f = open('articles/example_raw_soup.html', 'w+')\n",
    "#f.write(str(soup.find_all('section', {'name':'articleBody'})))\n",
    "f.write(str(soup))\n",
    "f.close()"
   ]
  },
  {
   "cell_type": "code",
   "execution_count": 261,
   "metadata": {},
   "outputs": [
    {
     "name": "stdout",
     "output_type": "stream",
     "text": [
      "With Most States Under One Party’s Control, America Grows More Divided - The New York Times\n",
      "By Timothy Williams\n"
     ]
    }
   ],
   "source": [
    "print(soup.find('title').text)\n",
    "print(soup.find('p', {'itemprop': 'author'}).text)"
   ]
  },
  {
   "cell_type": "code",
   "execution_count": 266,
   "metadata": {},
   "outputs": [],
   "source": [
    "def collect_paragraphs(soup):\n",
    "    body = soup.find_all('section', {'name': 'articleBody'})\n",
    "    paragraphs = [b.find_all('p') for b in body]\n",
    "    return paragraphs"
   ]
  },
  {
   "cell_type": "code",
   "execution_count": 268,
   "metadata": {},
   "outputs": [],
   "source": [
    "nyt_articles_content  = dict()\n",
    "s = requests.session()\n",
    "for href in nyt_article_refs:\n",
    "    response = s.get('https://nytimes.com/{0}'.format(href))\n",
    "    soup = BeautifulSoup(response.content.decode('utf-8', 'ignore'), 'html.parser')\n",
    "    entry = str(href).split('/')[-1].replace('.html', '').replace('#commentsContainer', '')\n",
    "    title = soup.find('title')\n",
    "    author = soup.find('p', {'itemprop': 'author'}).text\n",
    "    article_text = collect_paragraphs(soup)\n",
    "    nyt_articles_content[entry] = { 'title': str(title), 'author': author, 'body': article_text, 'link': str(href) }\n",
    "    "
   ]
  },
  {
   "cell_type": "code",
   "execution_count": 213,
   "metadata": {},
   "outputs": [
    {
     "name": "stdout",
     "output_type": "stream",
     "text": [
      "['fully-automated-luxury-communism', 'hong-kong-protests', 'budapest-danube-crash', 'youtube-radicalization-algorithms', 'nyc-taxi-medallion-suicides-the-weekly', 'astrology-occult-millennials', 'soho-wellness-pop-up', 'brazil-cuba-doctors-jair-bolsonaro', 'trump-trade-tariffs', 'organ-transplant-deaths', 'universal-fire-master-recordings', 'trump-mexico-tariffs-trade', 'deepfake-pelosi-video', 'trump-mexico-tariffs-china', 'iowa-trump-biden', 'resistance-democrats-pelosi-schumer', 'sudan-protests', 'arizona-2020-vote', 'review-capitalist-robert-menasse', 'police-dna-warrant', 'master-recordings-universal-fire', 'state-legislatures-partisan-polarized', 'womens-soccer-inequality-pay', 'youtube-mukbang-bloveslife-bethany-gaskin']\n"
     ]
    }
   ],
   "source": [
    "print(nyt_articles_content.keys())"
   ]
  },
  {
   "cell_type": "code",
   "execution_count": 216,
   "metadata": {},
   "outputs": [],
   "source": [
    "keys = list(articles.keys())"
   ]
  },
  {
   "cell_type": "code",
   "execution_count": 272,
   "metadata": {},
   "outputs": [],
   "source": [
    "for i, key in enumerate(keys):\n",
    "    f = open('articles/{}.html'.format(key), 'w+')\n",
    "    f.write(str(articles[key]))\n",
    "    f.close()"
   ]
  },
  {
   "cell_type": "code",
   "execution_count": null,
   "metadata": {},
   "outputs": [],
   "source": []
  }
 ],
 "metadata": {
  "kernelspec": {
   "display_name": "Python [conda env:anaconda]",
   "language": "python",
   "name": "conda-env-anaconda-py"
  },
  "language_info": {
   "codemirror_mode": {
    "name": "ipython",
    "version": 2
   },
   "file_extension": ".py",
   "mimetype": "text/x-python",
   "name": "python",
   "nbconvert_exporter": "python",
   "pygments_lexer": "ipython2",
   "version": "2.7.14"
  }
 },
 "nbformat": 4,
 "nbformat_minor": 2
}
