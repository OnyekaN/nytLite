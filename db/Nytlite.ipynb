{
 "cells": [
  {
   "cell_type": "code",
   "execution_count": 81,
   "metadata": {},
   "outputs": [],
   "source": [
    "import os, re, sys, json, pickle, requests\n",
    "import pandas as pd\n",
    "from bs4 import BeautifulSoup\n",
    "from unidecode import unidecode"
   ]
  },
  {
   "cell_type": "code",
   "execution_count": 2,
   "metadata": {},
   "outputs": [],
   "source": [
    "nyt_home_link = \"https://www.nytimes.com/\"\n",
    "nyt_home_response = requests.get(nyt_home_link, timeout=5)\n",
    "nyt_home_soup = BeautifulSoup(nyt_home_response.content, \"html.parser\")"
   ]
  },
  {
   "cell_type": "code",
   "execution_count": 3,
   "metadata": {},
   "outputs": [],
   "source": [
    "nyt_articles = nyt_home_soup.find_all(\"article\")"
   ]
  },
  {
   "cell_type": "code",
   "execution_count": 4,
   "metadata": {},
   "outputs": [],
   "source": [
    "nyt_article_refs = list()\n",
    "for article in nyt_articles:\n",
    "    anchors = article.find_all(\"a\")\n",
    "    for a in anchors:\n",
    "        nyt_article_refs.append(a[\"href\"])"
   ]
  },
  {
   "cell_type": "code",
   "execution_count": 5,
   "metadata": {},
   "outputs": [],
   "source": [
    "nyt_article_refs = [href for href in nyt_article_refs if 'podcast' not in href]\n",
    "nyt_article_refs = [href for href in nyt_article_refs if 'interactive' not in href]\n",
    "nyt_article_refs = [href for href in nyt_article_refs if 'crosswords' not in href]\n",
    "nyt_article_refs = [href for href in nyt_article_refs if 'weekly' not in href]"
   ]
  },
  {
   "cell_type": "code",
   "execution_count": 7,
   "metadata": {},
   "outputs": [
    {
     "data": {
      "text/plain": [
       "['/2019/06/21/us/reparations-discussion.html',\n",
       " '/2019/06/21/us/reparations-discussion.html',\n",
       " 'https://www.nytimes.com/tips',\n",
       " 'https://www.nytimes.com/tips',\n",
       " '/2019/06/25/us/migrant-children-border.html',\n",
       " '/2019/06/24/us/politics/migrants-emergency-aid-border.html',\n",
       " '/2019/06/24/us/politics/migrants-emergency-aid-border.html#commentsContainer',\n",
       " '/2019/06/25/climate/trump-minnesota-mine.html',\n",
       " '/2019/06/25/climate/trump-minnesota-mine.html#commentsContainer',\n",
       " '/2019/06/25/climate/trump-minnesota-mine.html',\n",
       " '/2019/06/25/world/middleeast/iran-rouhani-us-sanctions.html',\n",
       " '/2019/06/25/world/middleeast/iran-rouhani-us-sanctions.html#commentsContainer',\n",
       " '/2019/06/24/world/middleeast/iran-sanctions-response.html',\n",
       " '/2019/06/24/world/middleeast/iran-sanctions-response.html#commentsContainer',\n",
       " '/2019/06/24/us/politics/jean-carroll-trump.html',\n",
       " '/2019/06/24/us/politics/jean-carroll-trump.html#commentsContainer',\n",
       " '/2019/06/24/us/politics/jean-carroll-trump.html',\n",
       " '/2019/06/25/us/politics/cory-booker-debate.html',\n",
       " '/2019/06/25/us/politics/democrats-2020-emails.html',\n",
       " '/2019/06/25/upshot/student-loan-debt-forgiveness.html',\n",
       " '/2019/06/25/upshot/student-loan-debt-forgiveness.html#commentsContainer',\n",
       " '/2019/06/24/dining/nigerian-food-yewande-komolafe.html',\n",
       " '/2019/06/24/dining/nigerian-food-yewande-komolafe.html#commentsContainer',\n",
       " '/2019/06/24/dining/nigerian-food-yewande-komolafe.html',\n",
       " '/2019/06/25/opinion/taxes-debates-eli-broad.html',\n",
       " '/2019/06/25/opinion/taxes-debates-eli-broad.html#commentsContainer',\n",
       " '/2019/06/25/opinion/brain-injury-philosophy.html',\n",
       " '/2019/06/25/opinion/brain-injury-philosophy.html#commentsContainer',\n",
       " '/2019/06/25/opinion/brain-injury-philosophy.html',\n",
       " '/2019/06/25/opinion/international-world/marta-harnecker-latin-american-left.html',\n",
       " '/2019/06/25/opinion/bourdain-antarctica-climate.html',\n",
       " '/2019/06/25/opinion/boris-johnson-election.html',\n",
       " '/2019/06/25/opinion/supreme-court-travel-ban-trump.html',\n",
       " 'https://www.reddit.com/r/movies/comments/c5av7e/i_am_errol_morris_lets_talk_about_my_new_york/',\n",
       " '/2019/06/24/opinion/joe-biden-electability-2020.html',\n",
       " '/2019/06/24/opinion/republican-states-health-care.html',\n",
       " '/2019/06/24/opinion/artificial-intelligence-depression.html',\n",
       " '/2019/06/25/opinion/women-sex-toys-advertisements.html',\n",
       " '/2019/06/25/books/iris-murdoch-centennial.html',\n",
       " '/2019/06/25/books/iris-murdoch-centennial.html',\n",
       " '/2019/06/25/books/iris-murdoch-centennial.html',\n",
       " '/2019/06/25/business/college-dorm-uber-amenities.html',\n",
       " '/2019/06/25/business/college-dorm-uber-amenities.html']"
      ]
     },
     "execution_count": 7,
     "metadata": {},
     "output_type": "execute_result"
    }
   ],
   "source": [
    "nyt_article_refs"
   ]
  },
  {
   "cell_type": "markdown",
   "metadata": {},
   "source": [
    "s = requests.session()\n",
    "\n",
    "response = s.get('https://nytimes.com/2019/05/17/briefing/iran-sat-taiwan.html')"
   ]
  },
  {
   "cell_type": "code",
   "execution_count": 135,
   "metadata": {},
   "outputs": [],
   "source": [
    "s = requests.session()\n",
    "response = s.get('https://nytimes.com/{0}'.format(nyt_article_refs[1]))\n",
    "soup = BeautifulSoup(response.content.decode('utf-8', 'ignore'), \"html.parser\")"
   ]
  },
  {
   "cell_type": "markdown",
   "metadata": {},
   "source": [
    "f = open('articles/example_raw_soup.html', 'w+')\n",
    "f.write(str(soup))\n",
    "f.close()"
   ]
  },
  {
   "cell_type": "code",
   "execution_count": 9,
   "metadata": {},
   "outputs": [
    {
     "name": "stdout",
     "output_type": "stream",
     "text": [
      "No Easy Answers on Reparations - The New York Times\n"
     ]
    }
   ],
   "source": [
    "print(soup.find('title').text)"
   ]
  },
  {
   "cell_type": "code",
   "execution_count": 28,
   "metadata": {},
   "outputs": [],
   "source": [
    "def find_author(soup, href):\n",
    "    date = '-'.join(href.split('/')[1:4])\n",
    "    times = soup.find_all('time', {'datetime' : date})\n",
    "    parents = [t.parent.parent.parent for t in times]\n",
    "    author = ''\n",
    "    for parent in parents:\n",
    "        p = parent.find('p', {'itemprop' : 'author'})\n",
    "        if p:\n",
    "            author += p.text\n",
    "    return str(author)"
   ]
  },
  {
   "cell_type": "code",
   "execution_count": 11,
   "metadata": {},
   "outputs": [
    {
     "data": {
      "text/plain": [
       "'By Adeel Hassan'"
      ]
     },
     "execution_count": 11,
     "metadata": {},
     "output_type": "execute_result"
    }
   ],
   "source": [
    "find_author(soup, str(nyt_article_refs[1]))"
   ]
  },
  {
   "cell_type": "code",
   "execution_count": null,
   "metadata": {},
   "outputs": [],
   "source": []
  },
  {
   "cell_type": "code",
   "execution_count": 96,
   "metadata": {},
   "outputs": [],
   "source": [
    "def collect_paragraphs(soup):\n",
    "    body = soup.find_all('section', {'name': 'articleBody'})\n",
    "    paragraphs = list()\n",
    "    for b in body:\n",
    "        paragraphs.extend(b.find_all('p'))\n",
    "    paragraphs = [str(unidecode(p)) for p in paragraphs]\n",
    "    paragraphs = ''.join(paragraphs)\n",
    "    return paragraphs"
   ]
  },
  {
   "cell_type": "code",
   "execution_count": 97,
   "metadata": {},
   "outputs": [
    {
     "data": {
      "text/plain": [
       "'<p class=\"css-exrw3m evys1bk0\">The millennial generation attended college in a golden era for student housing, as investors poured money into luxurious off-campus communities packed with resort-style amenities: rooftop pools, golf simulators, tanning beds, climbing walls.</p><p class=\"css-exrw3m evys1bk0\">The wow factor increased with every new development. <!-- -->Many universities amped up their campus dorms and amenities in an effort to bolster recruitment, with a few going so far as to put in “lazy rivers” for floating around pools.</p><p class=\"css-exrw3m evys1bk0\">“It was crazy to see what was going to beat the last new thing,” said <!-- -->Dan Oltersdorf<!-- -->, a senior vice president and chief learning officer at Campus Advantage, which manages about 70 off-campus student housing communities around the country. “You were just asking, what’s next?”</p><p class=\"css-exrw3m evys1bk0\">But as millennials move on and so-called Generation Z moves in, student housing is shifting away from recreational dazzle and toward amenities that reflect the gig economy: digital conveniences, ample spaces indoors and out for studying and collaborating, and cutting-edge fitness facilities to maintain wellness.</p><p class=\"css-exrw3m evys1bk0\">“Shared study rooms, a pickup spot for Uber and GrubHub, Amazon lockers — this is the ‘everything at your fingertips’ generation,” said <!-- -->Carl Whitaker<!-- -->, the manager of data analytics at RealPage, a provider of software and data to the real estate industry.</p><p class=\"css-exrw3m evys1bk0\">At the same time, as college costs continue to rise, more students — and their parents — are looking for ways to get the most value out of their education, said <!-- -->Jim Curtin<!-- -->, a principal at Solomon Cordwell Buenz, an architecture firm in Chicago that works on university housing around the country. Climbing walls and tanning beds are far less likely to impress them than, say,<!-- --> innovation labs and maker spaces.</p><p class=\"css-exrw3m evys1bk0\">“They don’t want needless things,” Mr. Curtin said. “It’s almost like school is becoming more of a career boot camp: ‘How am I going to graduate with the highest-paying job I can get so I can pay down my loans?’”</p><p class=\"css-exrw3m evys1bk0\">Construction of off-campus student housing is expected to continue apace this year, with an expected 47,000 new beds being made available this fall, Mr. Whitaker said. That rate has held steady, peaking at 62,000 in 2014.</p><p class=\"css-exrw3m evys1bk0\">Such widespread upgrading of college student accommodations has occurred only twice before in the history of student housing design, said <!-- -->Carla Yanni<!-- -->, a professor of art history at Rutgers University and the author of “Living on Campus: An Architectural History of the American Dormitory.” </p><p class=\"css-exrw3m evys1bk0\">Rapid construction of luxurious fraternity houses came in the late 19th century, driven by rising competition for the nicest house, she said. In the early 20th century, universities began to realize that the fraternities were dominating campus social life and had housing that was far better than that of most students. “They wanted to offer a social alternative, and focused their energies on building dormitories,” Ms. Yanni said. </p><p class=\"css-exrw3m evys1bk0\">Now, the design of new student housing complexes is largely dictated by the university environment, the student body demographic and the local marketplace. But as overall student expectations are changing, developers and management companies are rethinking much of what they are delivering.</p><p class=\"css-exrw3m evys1bk0\">“The standard has become highly amenitized — almost all of our communities have fitness facilities and pools, game rooms,” Mr. Oltersdorf said. “But in the upgrades we’re doing and some of the new developments, there’s a more practical focus.”</p><p class=\"css-exrw3m evys1bk0\">For example, Campus Advantage, in a partnership with <!-- -->Stark Enterprises of Cleveland<!-- -->, is building a 618-bed apartment-style complex near the University of Florida in Gainesville that will have more than 3,000 square feet of study space in eight rooms when it opens in 2020. That’s four times the amount of study space Campus Advantage put into a project it built in Knoxville, Tenn., three years ago, said <!-- -->Madison Meier<!-- -->, the company’s vice president for business development.</p><p class=\"css-exrw3m evys1bk0\">Campus Advantage has also developed a package of less tangible amenities for its communities aimed at helping students succeed, including bringing in staff to critique résumés and take professional head shots, as well as reporting on-time rent payments to credit agencies to help students establish a credit score. </p><p class=\"css-exrw3m evys1bk0\">Mr. Curtin’s firm recently worked with <!-- -->American Campus Communities<!-- -->, a real estate investment trust that teams up with universities to build housing, on a 1,600-bed residence hall for engineering undergrads at Arizona State University in Tempe. Called <a class=\"css-1g7m0tk\" href=\"https://housing.asu.edu/housing-communities/residential-colleges/tooker-house\" rel=\"noopener noreferrer\" target=\"_blank\" title=\"\">Tooker House</a>, the community includes a maker space with 3-D printers, digital classrooms, 12 study rooms and Wi-Fi bandwidth strong enough to accommodate several devices per resident.</p><p class=\"css-exrw3m evys1bk0\">In contrast, a 1,860-bed apartment community American Campus built at the university in 2008 dedicated only 1,000 square feet to academics, and instead featured a 23,000-square-foot community center with a fitness room, game room, theater, pool and basketball court.</p><p class=\"css-exrw3m evys1bk0\">In another selling point, Tooker House was built to maintain high efficiency standards, earning it the LEED Gold certification, said <!-- -->Jason Wills<!-- -->, the chief marketing officer at American Campus. Rates for the upcoming school year are $8,460 to $9,080 per person, depending on whether the room is shared or private.</p><p class=\"css-exrw3m evys1bk0\">“This generation has grown up recycling, with solar, and being aware of consumption,” Mr. Wills said. “They expect their communities to reflect their values and what they’ve grown up with.”</p><p class=\"css-exrw3m evys1bk0\">When given a choice, students are also likely to choose higher-quality public spaces over large bedrooms, said <!-- -->Thomas Carlson-Reddig<!-- -->, the community practice leader at Little Diversified Architectural Consulting in Charlotte, N.C. His firm has experimented with space trade-offs in some “micro” student housing projects, including one in 2017 at the College of Charleston in South Carolina.</p><p class=\"css-exrw3m evys1bk0\">His firm designed the renovation of the <a class=\"css-1g7m0tk\" href=\"http://housing.cofc.edu/residence-halls/rutledge-rivers.php\" rel=\"noopener noreferrer\" target=\"_blank\" title=\"\">Rutledge Rivers Residence Hall</a>, dividing the space into apartments with four single and double sleeping pods clustered around a central living area and kitchen. The pods, with loft beds equipped with ledges for plugging in devices, are 75 to 105 square feet. A survey of residents conducted this year yielded “very positive” results, Mr. Carlson-Reddig said.</p><p class=\"css-exrw3m evys1bk0\">“We are looking at trying to create more efficient designs in order to give students more social space or a great outdoor hangout space,” he said. “And students are absolutely on board with that.”</p><p class=\"css-exrw3m evys1bk0\">Mr. Curtin said he believed housing designs would only continue to become “more strategically robust” in an effort to be responsive to the pressure that students feel to succeed. </p><p class=\"css-exrw3m evys1bk0\">A <a class=\"css-1g7m0tk\" href=\"https://housing.uic.edu/residentialcomplex/\" rel=\"noopener noreferrer\" target=\"_blank\" title=\"\">550-student complex</a> his firm worked on for the University of Illinois in Chicago is trying something new in this regard: integrating 52,000 square feet of academic space, including classrooms, lecture halls and a tutoring center, into the residence hall. Scheduled to open this fall, the complex will also have a ground-floor cafe and study lounges on every floor. Rates will range from $9,550 to $13,560 per person per year.</p><p class=\"css-exrw3m evys1bk0\">“You’ve got full-fledged academic space sharing a lobby with a residence hall,” Mr. Curtin said. “It opens the door to so many possibilities, like extending the hours of academic use and having resources available to students off-hours. We think it’s going to be a whole new way of looking at mixed use on campuses.”</p>'"
      ]
     },
     "execution_count": 97,
     "metadata": {},
     "output_type": "execute_result"
    }
   ],
   "source": [
    "collect_paragraphs(soup)"
   ]
  },
  {
   "cell_type": "code",
   "execution_count": 180,
   "metadata": {},
   "outputs": [],
   "source": [
    "def parse_article_soup(href, soup):\n",
    "    article = dict()\n",
    "    entry = str(href).split('/')[-1]\n",
    "    entry = entry.replace('.html', '')\n",
    "    entry = entry.replace('#commentsContainer', '')\n",
    "    article = dict()\n",
    "    article['entry'] = entry\n",
    "    article['meta'] = dict()\n",
    "    article['meta']['title'] = unidecode(soup.find('title').text.replace(' - The New York Times', ''))\n",
    "    article['meta']['author'] = find_author(soup, href)\n",
    "    article['meta']['date'] = \"-\".join(href.split('/')[1:4])\n",
    "    article['meta']['href'] = str(href).replace('#commentsContainer', '')\n",
    "    article['article_body'] = collect_paragraphs(soup)\n",
    "    return article"
   ]
  },
  {
   "cell_type": "code",
   "execution_count": 181,
   "metadata": {},
   "outputs": [
    {
     "data": {
      "text/plain": [
       "{'article_body': '<p class=\"css-exrw3m evys1bk0\">The millennial generation attended college in a golden era for student housing, as investors poured money into luxurious off-campus communities packed with resort-style amenities: rooftop pools, golf simulators, tanning beds, climbing walls.</p><p class=\"css-exrw3m evys1bk0\">The wow factor increased with every new development. <!-- -->Many universities amped up their campus dorms and amenities in an effort to bolster recruitment, with a few going so far as to put in “lazy rivers” for floating around pools.</p><p class=\"css-exrw3m evys1bk0\">“It was crazy to see what was going to beat the last new thing,” said <!-- -->Dan Oltersdorf<!-- -->, a senior vice president and chief learning officer at Campus Advantage, which manages about 70 off-campus student housing communities around the country. “You were just asking, what’s next?”</p><p class=\"css-exrw3m evys1bk0\">But as millennials move on and so-called Generation Z moves in, student housing is shifting away from recreational dazzle and toward amenities that reflect the gig economy: digital conveniences, ample spaces indoors and out for studying and collaborating, and cutting-edge fitness facilities to maintain wellness.</p><p class=\"css-exrw3m evys1bk0\">“Shared study rooms, a pickup spot for Uber and GrubHub, Amazon lockers — this is the ‘everything at your fingertips’ generation,” said <!-- -->Carl Whitaker<!-- -->, the manager of data analytics at RealPage, a provider of software and data to the real estate industry.</p><p class=\"css-exrw3m evys1bk0\">At the same time, as college costs continue to rise, more students — and their parents — are looking for ways to get the most value out of their education, said <!-- -->Jim Curtin<!-- -->, a principal at Solomon Cordwell Buenz, an architecture firm in Chicago that works on university housing around the country. Climbing walls and tanning beds are far less likely to impress them than, say,<!-- --> innovation labs and maker spaces.</p><p class=\"css-exrw3m evys1bk0\">“They don’t want needless things,” Mr. Curtin said. “It’s almost like school is becoming more of a career boot camp: ‘How am I going to graduate with the highest-paying job I can get so I can pay down my loans?’”</p><p class=\"css-exrw3m evys1bk0\">Construction of off-campus student housing is expected to continue apace this year, with an expected 47,000 new beds being made available this fall, Mr. Whitaker said. That rate has held steady, peaking at 62,000 in 2014.</p><p class=\"css-exrw3m evys1bk0\">Such widespread upgrading of college student accommodations has occurred only twice before in the history of student housing design, said <!-- -->Carla Yanni<!-- -->, a professor of art history at Rutgers University and the author of “Living on Campus: An Architectural History of the American Dormitory.” </p><p class=\"css-exrw3m evys1bk0\">Rapid construction of luxurious fraternity houses came in the late 19th century, driven by rising competition for the nicest house, she said. In the early 20th century, universities began to realize that the fraternities were dominating campus social life and had housing that was far better than that of most students. “They wanted to offer a social alternative, and focused their energies on building dormitories,” Ms. Yanni said. </p><p class=\"css-exrw3m evys1bk0\">Now, the design of new student housing complexes is largely dictated by the university environment, the student body demographic and the local marketplace. But as overall student expectations are changing, developers and management companies are rethinking much of what they are delivering.</p><p class=\"css-exrw3m evys1bk0\">“The standard has become highly amenitized — almost all of our communities have fitness facilities and pools, game rooms,” Mr. Oltersdorf said. “But in the upgrades we’re doing and some of the new developments, there’s a more practical focus.”</p><p class=\"css-exrw3m evys1bk0\">For example, Campus Advantage, in a partnership with <!-- -->Stark Enterprises of Cleveland<!-- -->, is building a 618-bed apartment-style complex near the University of Florida in Gainesville that will have more than 3,000 square feet of study space in eight rooms when it opens in 2020. That’s four times the amount of study space Campus Advantage put into a project it built in Knoxville, Tenn., three years ago, said <!-- -->Madison Meier<!-- -->, the company’s vice president for business development.</p><p class=\"css-exrw3m evys1bk0\">Campus Advantage has also developed a package of less tangible amenities for its communities aimed at helping students succeed, including bringing in staff to critique résumés and take professional head shots, as well as reporting on-time rent payments to credit agencies to help students establish a credit score. </p><p class=\"css-exrw3m evys1bk0\">Mr. Curtin’s firm recently worked with <!-- -->American Campus Communities<!-- -->, a real estate investment trust that teams up with universities to build housing, on a 1,600-bed residence hall for engineering undergrads at Arizona State University in Tempe. Called <a class=\"css-1g7m0tk\" href=\"https://housing.asu.edu/housing-communities/residential-colleges/tooker-house\" rel=\"noopener noreferrer\" target=\"_blank\" title=\"\">Tooker House</a>, the community includes a maker space with 3-D printers, digital classrooms, 12 study rooms and Wi-Fi bandwidth strong enough to accommodate several devices per resident.</p><p class=\"css-exrw3m evys1bk0\">In contrast, a 1,860-bed apartment community American Campus built at the university in 2008 dedicated only 1,000 square feet to academics, and instead featured a 23,000-square-foot community center with a fitness room, game room, theater, pool and basketball court.</p><p class=\"css-exrw3m evys1bk0\">In another selling point, Tooker House was built to maintain high efficiency standards, earning it the LEED Gold certification, said <!-- -->Jason Wills<!-- -->, the chief marketing officer at American Campus. Rates for the upcoming school year are $8,460 to $9,080 per person, depending on whether the room is shared or private.</p><p class=\"css-exrw3m evys1bk0\">“This generation has grown up recycling, with solar, and being aware of consumption,” Mr. Wills said. “They expect their communities to reflect their values and what they’ve grown up with.”</p><p class=\"css-exrw3m evys1bk0\">When given a choice, students are also likely to choose higher-quality public spaces over large bedrooms, said <!-- -->Thomas Carlson-Reddig<!-- -->, the community practice leader at Little Diversified Architectural Consulting in Charlotte, N.C. His firm has experimented with space trade-offs in some “micro” student housing projects, including one in 2017 at the College of Charleston in South Carolina.</p><p class=\"css-exrw3m evys1bk0\">His firm designed the renovation of the <a class=\"css-1g7m0tk\" href=\"http://housing.cofc.edu/residence-halls/rutledge-rivers.php\" rel=\"noopener noreferrer\" target=\"_blank\" title=\"\">Rutledge Rivers Residence Hall</a>, dividing the space into apartments with four single and double sleeping pods clustered around a central living area and kitchen. The pods, with loft beds equipped with ledges for plugging in devices, are 75 to 105 square feet. A survey of residents conducted this year yielded “very positive” results, Mr. Carlson-Reddig said.</p><p class=\"css-exrw3m evys1bk0\">“We are looking at trying to create more efficient designs in order to give students more social space or a great outdoor hangout space,” he said. “And students are absolutely on board with that.”</p><p class=\"css-exrw3m evys1bk0\">Mr. Curtin said he believed housing designs would only continue to become “more strategically robust” in an effort to be responsive to the pressure that students feel to succeed. </p><p class=\"css-exrw3m evys1bk0\">A <a class=\"css-1g7m0tk\" href=\"https://housing.uic.edu/residentialcomplex/\" rel=\"noopener noreferrer\" target=\"_blank\" title=\"\">550-student complex</a> his firm worked on for the University of Illinois in Chicago is trying something new in this regard: integrating 52,000 square feet of academic space, including classrooms, lecture halls and a tutoring center, into the residence hall. Scheduled to open this fall, the complex will also have a ground-floor cafe and study lounges on every floor. Rates will range from $9,550 to $13,560 per person per year.</p><p class=\"css-exrw3m evys1bk0\">“You’ve got full-fledged academic space sharing a lobby with a residence hall,” Mr. Curtin said. “It opens the door to so many possibilities, like extending the hours of academic use and having resources available to students off-hours. We think it’s going to be a whole new way of looking at mixed use on campuses.”</p>',\n",
       " 'entry': 'reparations-discussion',\n",
       " 'meta': {'author': '',\n",
       "  'date': '2019-06-21',\n",
       "  'href': '/2019/06/21/us/reparations-discussion.html',\n",
       "  'title': 'Forget Tanning Beds. College Students Today Want Uber Parking.'}}"
      ]
     },
     "execution_count": 181,
     "metadata": {},
     "output_type": "execute_result"
    }
   ],
   "source": [
    "parse_article_soup(nyt_article_refs[1], soup)"
   ]
  },
  {
   "cell_type": "code",
   "execution_count": 193,
   "metadata": {},
   "outputs": [],
   "source": [
    "s = requests.session()\n",
    "current_nyt_articles = dict()\n",
    "\n",
    "for href in nyt_article_refs:\n",
    "    response = s.get('https://nytimes.com/{0}'.format(href))\n",
    "    soup = BeautifulSoup(response.content.decode('utf-8', 'ignore'), 'html.parser')\n",
    "    article = parse_article_soup(href, soup)\n",
    "    current_nyt_articles[article['entry']] = article\n",
    "                                   "
   ]
  },
  {
   "cell_type": "code",
   "execution_count": 194,
   "metadata": {},
   "outputs": [
    {
     "name": "stdout",
     "output_type": "stream",
     "text": [
      "{'entry': 'reparations-discussion', 'meta': {'title': 'No Easy Answers on Reparations', 'author': 'By Adeel Hassan', 'date': '2019-06-21', 'href': '/2019/06/21/us/reparations-discussion.html'}, 'article_body': '<p class=\"css-exrw3m evys1bk0\">In the 50 years since the civil rights pioneer <a class=\"css-1g7m0tk\" href=\"https://www.nytimes.com/2005/01/12/obituaries/james-forman-dies-at-76-was-pioneer-in-civil-rights.html?module=inline\" title=\"\">James Forman</a> demanded <a class=\"css-1g7m0tk\" href=\"https://episcopalarchives.org/church-awakens/exhibits/show/specialgc/black-manifesto\" rel=\"noopener noreferrer\" target=\"_blank\" title=\"\">$500 million in reparations</a> for African-Americans from synagogues and white churches in his 1969 “Black Manifesto,” the United States has largely avoided any serious discussion of the legacy of slavery, Jim Crow and the structural racism that continues to permeate American society.</p><p class=\"css-exrw3m evys1bk0\">This week might have evinced signs of change. A series of public events signaled the arrival of a new cultural moment, one in which Americans are ready to discuss past sins. </p><p class=\"css-exrw3m evys1bk0\">The most prominent of these occurred on Wednesday, when a House Judiciary subcommittee <a class=\"css-1g7m0tk\" href=\"https://www.nytimes.com/2019/06/19/us/politics/slavery-reparations-hearing.html?module=inline\" title=\"\">held a hearing</a> on a bill that would commission a study on reparations. The meeting took place on Juneteenth, a day commemorating the announcement of the end of slavery in the United States. The hearing also came five years after the author Ta-Nehisi Coates, who testified before the subcommittee, helped rekindle the reparations debate with his essay “<a class=\"css-1g7m0tk\" href=\"https://www.theatlantic.com/magazine/archive/2014/06/the-case-for-reparations/361631/\" rel=\"noopener noreferrer\" target=\"_blank\" title=\"\">The Case for Reparations.</a>”</p><p class=\"css-exrw3m evys1bk0\">[<em class=\"css-2fg4z9 e1gzwzxm0\">Read the </em><a class=\"css-1g7m0tk\" href=\"https://www.nytimes.com/2019/06/19/us/ta-nehisi-coates-reparations.html?module=inline\" title=\"\"><em class=\"css-2fg4z9 e1gzwzxm0\">full remarks by Ta-Nehisi Coates</em></a><em class=\"css-2fg4z9 e1gzwzxm0\">.</em>]</p><p class=\"css-exrw3m evys1bk0\">Mr. Coates and others have traced racial disparities in wealth, health and criminal justice to government policies and decades of indifference. And Americans are listening. Today, 63 percent of adults believe that slavery’s legacy affects the position of black people in society either a great deal or a fair amount, <!-- -->a recent <a class=\"css-1g7m0tk\" href=\"https://www.pewresearch.org/fact-tank/2019/06/17/most-americans-say-the-legacy-of-slavery-still-affects-black-people-in-the-u-s-today/\" rel=\"noopener noreferrer\" target=\"_blank\" title=\"\">Pew Research Center survey</a> show<!-- -->ed.</p><p class=\"css-exrw3m evys1bk0\">Gov. Gavin Newsom of California <a class=\"css-1g7m0tk\" href=\"https://www.nytimes.com/2019/06/19/us/newsom-native-american-apology.html?module=inline\" title=\"\">issued a formal apology</a> this week to the state’s Native American communities for the state’s history of repression and violence.</p><p class=\"css-exrw3m evys1bk0\">“It’s called genocide,” Mr. Newsom said Tuesday in a featured story in the California Today newsletter (<a class=\"css-1g7m0tk\" href=\"https://www.nytimes.com/newsletters/california-today?module=inline\" title=\"\">sign up here</a>). “That’s what it was, a genocide. No other way to describe it. And that’s the way it needs to be described in the history books.”</p><p class=\"css-exrw3m evys1bk0\">The governor’s executive order has been called the first broad-based state apology for atrocities against Native Americans. In another effort, Maine has created a reconciliation commission, which Mr. Newsom also plans to do in California, as a repository for stories and scholarship.</p><p class=\"css-exrw3m evys1bk0\">But a similar apology to African-Americans for the sins of slavery and other crimes — whether at the state or federal level — must be seen as only a starting point, international human rights experts say.</p><p class=\"css-exrw3m evys1bk0\">“There should be a really serious apology, and it would have to be made by the president and have buy-in from governors of all states that slaves were ever held,” <!-- -->said Rhoda E. Howard-Hassmann of Wilfrid Laurier University in Ontario.<!-- --> “And it would have to be done very, very seriously, with a lot of ritual, and include representatives of descendants of slaves.”</p><p class=\"css-exrw3m evys1bk0\">She said that African-American leaders would have to approve the text, and that it would have to show “good faith,” which would mean including reparations.</p><p class=\"css-exrw3m evys1bk0\">[<em class=\"css-2fg4z9 e1gzwzxm0\">Read what </em><a class=\"css-1g7m0tk\" href=\"https://www.nytimes.com/2019/05/23/business/economy/reparations-slavery.html?module=inline\" title=\"\"><em class=\"css-2fg4z9 e1gzwzxm0\">reparations for slavery might look like in 2019</em></a><em class=\"css-2fg4z9 e1gzwzxm0\">.</em>]</p><p class=\"css-exrw3m evys1bk0\">Ms. Howard-Hassmann, who has studied the reparations <!-- -->paid to Japanese-Americans<!-- -->, said that compensation for descendants of slaves would have to be collective reparations that would go toward improving schools and health care, or funds granted to predominantly African-American areas.</p><p class=\"css-exrw3m evys1bk0\">“Then you have to accept that there are children who will benefit who are not direct descendants of enslaved people,” she said, adding that there would also have to be many more memorials and museums built to honor slaves.</p><p class=\"css-exrw3m evys1bk0\">The challenges that African-American claimants of reparations face, according to Ms. Howard-Hassmann, are many: that the victims of the direct harm are dead, that the perpetrators are diffuse, and that some of the actual harms were legal at the time they were committed. <!-- -->Some estimates of the reparations due<!-- --> exceed $1 trillion.</p><p class=\"css-exrw3m evys1bk0\">There is no template for providing reparations to descendants of enslaved African-Americans, but Americans have received compensation for historical injustices before. Along with Japanese-Americans who were held in internment camps, survivors of police abuses in Chicago, victims of forced sterilization, and black residents of a Florida town that was burned by a murderous white mob have all been compensated.</p><p class=\"css-exrw3m evys1bk0\">[<em class=\"css-2fg4z9 e1gzwzxm0\">Read about some of the </em><a class=\"css-1g7m0tk\" href=\"https://www.nytimes.com/2019/06/19/us/reparations-slavery.html?module=inline\" title=\"\"><em class=\"css-2fg4z9 e1gzwzxm0\">lessons that can be drawn from previous reparations</em></a><em class=\"css-2fg4z9 e1gzwzxm0\">.</em>]</p><p class=\"css-exrw3m evys1bk0\">At the House Judiciary hearing on Wednesday, a filmmaker, Katrina Browne, who is white, recounted learning that her ancestors had been “the largest slave-trading family in United States history,” and that they had brought more than 12,000 African individuals to the Americas in chains.</p><p class=\"css-exrw3m evys1bk0\">“It is good for the soul of a person, a people and of a nation to set things right,” she said.</p><p class=\"css-exrw3m evys1bk0\"><em class=\"css-2fg4z9 e1gzwzxm0\">Please sign up </em><a class=\"css-1g7m0tk\" href=\"https://www.nytimes.com/newsletters/race-related?module=inline\" title=\"\"><em class=\"css-2fg4z9 e1gzwzxm0\">here</em></a><em class=\"css-2fg4z9 e1gzwzxm0\"> to have the Race/Related newsletter delivered weekly to your inbox.</em></p>'}\n"
     ]
    }
   ],
   "source": [
    "keys = list(current_nyt_articles.keys())\n",
    "print(current_nyt_articles[keys[0]])"
   ]
  },
  {
   "cell_type": "code",
   "execution_count": 196,
   "metadata": {},
   "outputs": [],
   "source": [
    "nyt_articles_meta = dict()\n",
    "\n",
    "for i, key in enumerate(keys):\n",
    "    article_file_path = '{0}.html'.format(key)\n",
    "    nyt_articles_meta[key] = current_nyt_articles[key]['meta']\n",
    "    nyt_articles_meta[key]['file_path'] = article_file_path\n",
    "    with open('../app/assets/articles/{0}'.format(article_file_path), 'w+') as outfile:\n",
    "        outfile.write(str(current_nyt_articles[key]['article_body']))\n",
    "        "
   ]
  },
  {
   "cell_type": "code",
   "execution_count": 197,
   "metadata": {},
   "outputs": [],
   "source": [
    "try:\n",
    "    articles_dict = pickle.load(open('articles_meta.p', 'rb'))\n",
    "    articles_dict.update(nyt_articles_meta)\n",
    "except:\n",
    "    pass\n",
    "finally:\n",
    "    pickle.dump(nyt_articles_meta, open('articles_meta.p', 'ab'))\n",
    "\n",
    "with open('../app/assets/articles.json', 'w+') as outfile:\n",
    "    json.dump(articles_dict, outfile)"
   ]
  },
  {
   "cell_type": "code",
   "execution_count": 198,
   "metadata": {},
   "outputs": [
    {
     "name": "stdout",
     "output_type": "stream",
     "text": [
      "{'reparations-discussion': {'title': 'No Easy Answers on Reparations', 'author': 'By Adeel Hassan', 'date': '2019-06-21', 'href': '/2019/06/21/us/reparations-discussion.html', 'file_path': 'reparations-discussion.html'}, 'tips': {'title': 'Page Not Found', 'author': '', 'date': '-www.nytimes.com-tips', 'href': 'https://www.nytimes.com/tips', 'file_path': 'tips.html'}, 'migrant-children-border': {'title': \"'We're in a Dark Place': Children Returned to Troubled Texas Border Facility\", 'author': 'By Arturo Rubio and Caitlin Dickerson', 'date': '2019-06-25', 'href': '/2019/06/25/us/migrant-children-border.html', 'file_path': 'migrant-children-border.html'}, 'migrants-emergency-aid-border': {'title': 'Emergency Aid for Migrants Badly Divides Democrats', 'author': 'By Julie Hirschfeld Davis', 'date': '2019-06-24', 'href': '/2019/06/24/us/politics/migrants-emergency-aid-border.html', 'file_path': 'migrants-emergency-aid-border.html'}, 'trump-minnesota-mine': {'title': 'A Plan to Mine the Minnesota Wilderness Hit a Dead End. Then Trump Became President.', 'author': 'By Hiroko Tabuchi and Steve Eder', 'date': '2019-06-25', 'href': '/2019/06/25/climate/trump-minnesota-mine.html', 'file_path': 'trump-minnesota-mine.html'}, 'iran-rouhani-us-sanctions': {'title': \"Trump Threatens 'Obliteration' of Iran, as Sanctions Dispute Escalates\", 'author': 'By David E. Sanger, David D. Kirkpatrick and Isabel Kershner', 'date': '2019-06-25', 'href': '/2019/06/25/world/middleeast/iran-rouhani-us-sanctions.html', 'file_path': 'iran-rouhani-us-sanctions.html'}, 'iran-sanctions-response': {'title': 'Iran Greets Latest U.S. Sanctions With Mockery', 'author': 'By Farnaz Fassihi and David D. Kirkpatrick', 'date': '2019-06-24', 'href': '/2019/06/24/world/middleeast/iran-sanctions-response.html', 'file_path': 'iran-sanctions-response.html'}, 'jean-carroll-trump': {'title': \"'She's Not My Type': Accused Again of Sexual Assault, Trump Resorts to Old Insult\", 'author': 'By Peter Baker and Neil Vigdor', 'date': '2019-06-24', 'href': '/2019/06/24/us/politics/jean-carroll-trump.html', 'file_path': 'jean-carroll-trump.html'}, 'cory-booker-debate': {'title': 'Is Cory Booker Too Nice? (And Is That Bad?)', 'author': 'By Jonathan Martin and Nick Corasaniti', 'date': '2019-06-25', 'href': '/2019/06/25/us/politics/cory-booker-debate.html', 'file_path': 'cory-booker-debate.html'}, 'democrats-2020-emails': {'title': \"880 Emails Over 6 Weeks: Here's How 2020 Democrats Portray Themselves\", 'author': 'By Maggie Astor', 'date': '2019-06-25', 'href': '/2019/06/25/us/politics/democrats-2020-emails.html', 'file_path': 'democrats-2020-emails.html'}, 'student-loan-debt-forgiveness': {'title': \"Canceling Student Loan Debt Doesn't Make Problems Disappear\", 'author': 'By Kevin Carey', 'date': '2019-06-25', 'href': '/2019/06/25/upshot/student-loan-debt-forgiveness.html', 'file_path': 'student-loan-debt-forgiveness.html'}, 'nigerian-food-yewande-komolafe': {'title': \"Yewande Komolafe's 10 Essential Nigerian Recipes\", 'author': '', 'date': '2019-06-24', 'href': '/2019/06/24/dining/nigerian-food-yewande-komolafe.html', 'file_path': 'nigerian-food-yewande-komolafe.html'}, 'taxes-debates-eli-broad': {'title': \"Opinion | I'm in the 1 Percent. Please, Raise My Taxes.\", 'author': 'By Eli Broad', 'date': '2019-06-25', 'href': '/2019/06/25/opinion/taxes-debates-eli-broad.html', 'file_path': 'taxes-debates-eli-broad.html'}, 'brain-injury-philosophy': {'title': 'Opinion | A Philosopher on Brain Rest', 'author': 'By Megan Craig', 'date': '2019-06-25', 'href': '/2019/06/25/opinion/brain-injury-philosophy.html', 'file_path': 'brain-injury-philosophy.html'}, 'marta-harnecker-latin-american-left': {'title': 'Opinion | Marta Harnecker and the Death of the Latin American Hard Left', 'author': 'By Jorge G. Castañeda', 'date': '2019-06-25', 'href': '/2019/06/25/opinion/international-world/marta-harnecker-latin-american-left.html', 'file_path': 'marta-harnecker-latin-american-left.html'}, 'bourdain-antarctica-climate': {'title': 'Opinion | When Anthony Bourdain Went to the Bottom of the World', 'author': 'By Angela Zoumplis', 'date': '2019-06-25', 'href': '/2019/06/25/opinion/bourdain-antarctica-climate.html', 'file_path': 'bourdain-antarctica-climate.html'}, 'boris-johnson-election': {'title': 'Opinion | A Fanatical Sect Has Hijacked British Politics', 'author': 'By William Davies', 'date': '2019-06-25', 'href': '/2019/06/25/opinion/boris-johnson-election.html', 'file_path': 'boris-johnson-election.html'}, 'supreme-court-travel-ban-trump': {'title': 'Opinion | The Travel Ban Shows What Happens When the Supreme Court Trusts Trump', 'author': 'By Joshua A. Geltzer and Neal K. Katyal', 'date': '2019-06-25', 'href': '/2019/06/25/opinion/supreme-court-travel-ban-trump.html', 'file_path': 'supreme-court-travel-ban-trump.html'}, '': {'title': 'Page Not Found', 'author': '', 'date': '-www.reddit.com-r', 'href': 'https://www.reddit.com/r/movies/comments/c5av7e/i_am_errol_morris_lets_talk_about_my_new_york/', 'file_path': '.html'}, 'joe-biden-electability-2020': {'title': \"Opinion | Joe Biden Doesn't Look So Electable in Person\", 'author': 'By Michelle Goldberg', 'date': '2019-06-24', 'href': '/2019/06/24/opinion/joe-biden-electability-2020.html', 'file_path': 'joe-biden-electability-2020.html'}, 'republican-states-health-care': {'title': 'Opinion | Self-Inflicted Medical Misery', 'author': 'By Paul Krugman', 'date': '2019-06-24', 'href': '/2019/06/24/opinion/republican-states-health-care.html', 'file_path': 'republican-states-health-care.html'}, 'artificial-intelligence-depression': {'title': 'Opinion | How Artificial Intelligence Can Save Your Life', 'author': 'By David Brooks', 'date': '2019-06-24', 'href': '/2019/06/24/opinion/artificial-intelligence-depression.html', 'file_path': 'artificial-intelligence-depression.html'}, 'women-sex-toys-advertisements': {'title': 'Opinion | Vaginas Deserve Giant Ads, Too', 'author': 'By Jackie Rotman', 'date': '2019-06-25', 'href': '/2019/06/25/opinion/women-sex-toys-advertisements.html', 'file_path': 'women-sex-toys-advertisements.html'}, 'iris-murdoch-centennial': {'title': \"On the Centennial of Iris Murdoch's Birth, Remembering a 20th-Century Giant\", 'author': 'By Dwight Garner', 'date': '2019-06-25', 'href': '/2019/06/25/books/iris-murdoch-centennial.html', 'file_path': 'iris-murdoch-centennial.html'}, 'college-dorm-uber-amenities': {'title': 'Forget Tanning Beds. College Students Today Want Uber Parking.', 'author': 'By Lisa Prevost', 'date': '2019-06-25', 'href': '/2019/06/25/business/college-dorm-uber-amenities.html', 'file_path': 'college-dorm-uber-amenities.html'}}\n"
     ]
    }
   ],
   "source": [
    "print(articles_dict)"
   ]
  },
  {
   "cell_type": "code",
   "execution_count": null,
   "metadata": {},
   "outputs": [],
   "source": []
  }
 ],
 "metadata": {
  "kernelspec": {
   "display_name": "Python [conda env:py36]",
   "language": "python",
   "name": "conda-env-py36-py"
  },
  "language_info": {
   "codemirror_mode": {
    "name": "ipython",
    "version": 3
   },
   "file_extension": ".py",
   "mimetype": "text/x-python",
   "name": "python",
   "nbconvert_exporter": "python",
   "pygments_lexer": "ipython3",
   "version": "3.6.3"
  }
 },
 "nbformat": 4,
 "nbformat_minor": 2
}
