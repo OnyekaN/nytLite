{
 "cells": [
  {
   "cell_type": "code",
   "execution_count": 1,
   "metadata": {},
   "outputs": [],
   "source": [
    "import os, re, sys, json, pickle, requests\n",
    "import pandas as pd\n",
    "from bs4 import BeautifulSoup\n",
    "from unidecode import unidecode"
   ]
  },
  {
   "cell_type": "code",
   "execution_count": 2,
   "metadata": {},
   "outputs": [],
   "source": [
    "nyt_home_link = \"https://www.nytimes.com/\"\n",
    "nyt_home_response = requests.get(nyt_home_link, timeout=5)\n",
    "nyt_home_soup = BeautifulSoup(nyt_home_response.content, \"html.parser\")"
   ]
  },
  {
   "cell_type": "code",
   "execution_count": 3,
   "metadata": {},
   "outputs": [],
   "source": [
    "nyt_articles = nyt_home_soup.find_all(\"article\")"
   ]
  },
  {
   "cell_type": "code",
   "execution_count": 4,
   "metadata": {},
   "outputs": [],
   "source": [
    "nyt_article_refs = list()\n",
    "for article in nyt_articles:\n",
    "    anchors = article.find_all(\"a\")\n",
    "    for a in anchors:\n",
    "        nyt_article_refs.append(a[\"href\"])"
   ]
  },
  {
   "cell_type": "code",
   "execution_count": 5,
   "metadata": {},
   "outputs": [],
   "source": [
    "nyt_article_refs = [href for href in nyt_article_refs if 'podcast' not in href]\n",
    "nyt_article_refs = [href for href in nyt_article_refs if 'interactive' not in href]\n",
    "nyt_article_refs = [href for href in nyt_article_refs if 'crosswords' not in href]\n",
    "nyt_article_refs = [href for href in nyt_article_refs if 'weekly' not in href]"
   ]
  },
  {
   "cell_type": "code",
   "execution_count": 7,
   "metadata": {},
   "outputs": [
    {
     "data": {
      "text/plain": [
       "['/2019/06/21/us/reparations-discussion.html',\n",
       " '/2019/06/21/us/reparations-discussion.html',\n",
       " 'https://www.nytimes.com/tips',\n",
       " 'https://www.nytimes.com/tips',\n",
       " '/2019/06/25/us/migrant-children-border.html',\n",
       " '/2019/06/24/us/politics/migrants-emergency-aid-border.html',\n",
       " '/2019/06/24/us/politics/migrants-emergency-aid-border.html#commentsContainer',\n",
       " '/2019/06/25/climate/trump-minnesota-mine.html',\n",
       " '/2019/06/25/climate/trump-minnesota-mine.html#commentsContainer',\n",
       " '/2019/06/25/climate/trump-minnesota-mine.html',\n",
       " '/2019/06/25/world/middleeast/iran-rouhani-us-sanctions.html',\n",
       " '/2019/06/25/world/middleeast/iran-rouhani-us-sanctions.html#commentsContainer',\n",
       " '/2019/06/24/world/middleeast/iran-sanctions-response.html',\n",
       " '/2019/06/24/world/middleeast/iran-sanctions-response.html#commentsContainer',\n",
       " '/2019/06/24/us/politics/jean-carroll-trump.html',\n",
       " '/2019/06/24/us/politics/jean-carroll-trump.html#commentsContainer',\n",
       " '/2019/06/24/us/politics/jean-carroll-trump.html',\n",
       " '/2019/06/25/us/politics/cory-booker-debate.html',\n",
       " '/2019/06/25/us/politics/democrats-2020-emails.html',\n",
       " '/2019/06/25/upshot/student-loan-debt-forgiveness.html',\n",
       " '/2019/06/25/upshot/student-loan-debt-forgiveness.html#commentsContainer',\n",
       " '/2019/06/24/dining/nigerian-food-yewande-komolafe.html',\n",
       " '/2019/06/24/dining/nigerian-food-yewande-komolafe.html#commentsContainer',\n",
       " '/2019/06/24/dining/nigerian-food-yewande-komolafe.html',\n",
       " '/2019/06/25/opinion/taxes-debates-eli-broad.html',\n",
       " '/2019/06/25/opinion/taxes-debates-eli-broad.html#commentsContainer',\n",
       " '/2019/06/25/opinion/brain-injury-philosophy.html',\n",
       " '/2019/06/25/opinion/brain-injury-philosophy.html#commentsContainer',\n",
       " '/2019/06/25/opinion/brain-injury-philosophy.html',\n",
       " '/2019/06/25/opinion/international-world/marta-harnecker-latin-american-left.html',\n",
       " '/2019/06/25/opinion/bourdain-antarctica-climate.html',\n",
       " '/2019/06/25/opinion/boris-johnson-election.html',\n",
       " '/2019/06/25/opinion/supreme-court-travel-ban-trump.html',\n",
       " 'https://www.reddit.com/r/movies/comments/c5av7e/i_am_errol_morris_lets_talk_about_my_new_york/',\n",
       " '/2019/06/24/opinion/joe-biden-electability-2020.html',\n",
       " '/2019/06/24/opinion/republican-states-health-care.html',\n",
       " '/2019/06/24/opinion/artificial-intelligence-depression.html',\n",
       " '/2019/06/25/opinion/women-sex-toys-advertisements.html',\n",
       " '/2019/06/25/books/iris-murdoch-centennial.html',\n",
       " '/2019/06/25/books/iris-murdoch-centennial.html',\n",
       " '/2019/06/25/books/iris-murdoch-centennial.html',\n",
       " '/2019/06/25/business/college-dorm-uber-amenities.html',\n",
       " '/2019/06/25/business/college-dorm-uber-amenities.html']"
      ]
     },
     "execution_count": 7,
     "metadata": {},
     "output_type": "execute_result"
    }
   ],
   "source": [
    "nyt_article_refs"
   ]
  },
  {
   "cell_type": "markdown",
   "metadata": {},
   "source": [
    "s = requests.session()\n",
    "\n",
    "response = s.get('https://nytimes.com/2019/05/17/briefing/iran-sat-taiwan.html')"
   ]
  },
  {
   "cell_type": "code",
   "execution_count": 8,
   "metadata": {},
   "outputs": [],
   "source": [
    "s = requests.session()\n",
    "response = s.get('https://nytimes.com/{0}'.format(nyt_article_refs[1]))\n",
    "soup = BeautifulSoup(response.content.decode('utf-8', 'ignore'), \"html.parser\")"
   ]
  },
  {
   "cell_type": "markdown",
   "metadata": {},
   "source": [
    "f = open('articles/example_raw_soup.html', 'w+')\n",
    "f.write(str(soup))\n",
    "f.close()"
   ]
  },
  {
   "cell_type": "code",
   "execution_count": 9,
   "metadata": {},
   "outputs": [
    {
     "name": "stdout",
     "output_type": "stream",
     "text": [
      "No Easy Answers on Reparations - The New York Times\n"
     ]
    }
   ],
   "source": [
    "print(soup.find('title').text)"
   ]
  },
  {
   "cell_type": "code",
   "execution_count": 28,
   "metadata": {},
   "outputs": [],
   "source": [
    "def find_author(soup, href):\n",
    "    date = '-'.join(href.split('/')[1:4])\n",
    "    times = soup.find_all('time', {'datetime' : date})\n",
    "    parents = [t.parent.parent.parent for t in times]\n",
    "    author = ''\n",
    "    for parent in parents:\n",
    "        p = parent.find('p', {'itemprop' : 'author'})\n",
    "        if p:\n",
    "            author += p.text\n",
    "    return str(author)"
   ]
  },
  {
   "cell_type": "code",
   "execution_count": 11,
   "metadata": {},
   "outputs": [
    {
     "data": {
      "text/plain": [
       "'By Adeel Hassan'"
      ]
     },
     "execution_count": 11,
     "metadata": {},
     "output_type": "execute_result"
    }
   ],
   "source": [
    "find_author(soup, str(nyt_article_refs[1]))"
   ]
  },
  {
   "cell_type": "code",
   "execution_count": null,
   "metadata": {},
   "outputs": [],
   "source": []
  },
  {
   "cell_type": "code",
   "execution_count": 70,
   "metadata": {},
   "outputs": [],
   "source": [
    "def collect_paragraphs(soup):\n",
    "    body = soup.find_all('section', {'name': 'articleBody'})\n",
    "    paragraphs = list()\n",
    "    for b in body:\n",
    "        paragraphs.extend(b.find_all('p'))\n",
    "    paragraphs = [unidecode(p) for p in paragraphs]\n",
    "    return paragraphs"
   ]
  },
  {
   "cell_type": "code",
   "execution_count": 54,
   "metadata": {},
   "outputs": [
    {
     "data": {
      "text/plain": [
       "[<p class=\"css-exrw3m evys1bk0\">The millennial generation attended college in a golden era for student housing, as investors poured money into luxurious off-campus communities packed with resort-style amenities: rooftop pools, golf simulators, tanning beds, climbing walls.</p>,\n",
       " <p class=\"css-exrw3m evys1bk0\">The wow factor increased with every new development. <!-- -->Many universities amped up their campus dorms and amenities in an effort to bolster recruitment, with a few going so far as to put in “lazy rivers” for floating around pools.</p>,\n",
       " <p class=\"css-exrw3m evys1bk0\">“It was crazy to see what was going to beat the last new thing,” said <!-- -->Dan Oltersdorf<!-- -->, a senior vice president and chief learning officer at Campus Advantage, which manages about 70 off-campus student housing communities around the country. “You were just asking, what’s next?”</p>,\n",
       " <p class=\"css-exrw3m evys1bk0\">But as millennials move on and so-called Generation Z moves in, student housing is shifting away from recreational dazzle and toward amenities that reflect the gig economy: digital conveniences, ample spaces indoors and out for studying and collaborating, and cutting-edge fitness facilities to maintain wellness.</p>,\n",
       " <p class=\"css-exrw3m evys1bk0\">“Shared study rooms, a pickup spot for Uber and GrubHub, Amazon lockers — this is the ‘everything at your fingertips’ generation,” said <!-- -->Carl Whitaker<!-- -->, the manager of data analytics at RealPage, a provider of software and data to the real estate industry.</p>,\n",
       " <p class=\"css-exrw3m evys1bk0\">At the same time, as college costs continue to rise, more students — and their parents — are looking for ways to get the most value out of their education, said <!-- -->Jim Curtin<!-- -->, a principal at Solomon Cordwell Buenz, an architecture firm in Chicago that works on university housing around the country. Climbing walls and tanning beds are far less likely to impress them than, say,<!-- --> innovation labs and maker spaces.</p>,\n",
       " <p class=\"css-exrw3m evys1bk0\">“They don’t want needless things,” Mr. Curtin said. “It’s almost like school is becoming more of a career boot camp: ‘How am I going to graduate with the highest-paying job I can get so I can pay down my loans?’”</p>,\n",
       " <p class=\"css-exrw3m evys1bk0\">Construction of off-campus student housing is expected to continue apace this year, with an expected 47,000 new beds being made available this fall, Mr. Whitaker said. That rate has held steady, peaking at 62,000 in 2014.</p>,\n",
       " <p class=\"css-exrw3m evys1bk0\">Such widespread upgrading of college student accommodations has occurred only twice before in the history of student housing design, said <!-- -->Carla Yanni<!-- -->, a professor of art history at Rutgers University and the author of “Living on Campus: An Architectural History of the American Dormitory.” </p>,\n",
       " <p class=\"css-exrw3m evys1bk0\">Rapid construction of luxurious fraternity houses came in the late 19th century, driven by rising competition for the nicest house, she said. In the early 20th century, universities began to realize that the fraternities were dominating campus social life and had housing that was far better than that of most students. “They wanted to offer a social alternative, and focused their energies on building dormitories,” Ms. Yanni said. </p>,\n",
       " <p class=\"css-exrw3m evys1bk0\">Now, the design of new student housing complexes is largely dictated by the university environment, the student body demographic and the local marketplace. But as overall student expectations are changing, developers and management companies are rethinking much of what they are delivering.</p>,\n",
       " <p class=\"css-exrw3m evys1bk0\">“The standard has become highly amenitized — almost all of our communities have fitness facilities and pools, game rooms,” Mr. Oltersdorf said. “But in the upgrades we’re doing and some of the new developments, there’s a more practical focus.”</p>,\n",
       " <p class=\"css-exrw3m evys1bk0\">For example, Campus Advantage, in a partnership with <!-- -->Stark Enterprises of Cleveland<!-- -->, is building a 618-bed apartment-style complex near the University of Florida in Gainesville that will have more than 3,000 square feet of study space in eight rooms when it opens in 2020. That’s four times the amount of study space Campus Advantage put into a project it built in Knoxville, Tenn., three years ago, said <!-- -->Madison Meier<!-- -->, the company’s vice president for business development.</p>,\n",
       " <p class=\"css-exrw3m evys1bk0\">Campus Advantage has also developed a package of less tangible amenities for its communities aimed at helping students succeed, including bringing in staff to critique résumés and take professional head shots, as well as reporting on-time rent payments to credit agencies to help students establish a credit score. </p>,\n",
       " <p class=\"css-exrw3m evys1bk0\">Mr. Curtin’s firm recently worked with <!-- -->American Campus Communities<!-- -->, a real estate investment trust that teams up with universities to build housing, on a 1,600-bed residence hall for engineering undergrads at Arizona State University in Tempe. Called <a class=\"css-1g7m0tk\" href=\"https://housing.asu.edu/housing-communities/residential-colleges/tooker-house\" rel=\"noopener noreferrer\" target=\"_blank\" title=\"\">Tooker House</a>, the community includes a maker space with 3-D printers, digital classrooms, 12 study rooms and Wi-Fi bandwidth strong enough to accommodate several devices per resident.</p>,\n",
       " <p class=\"css-exrw3m evys1bk0\">In contrast, a 1,860-bed apartment community American Campus built at the university in 2008 dedicated only 1,000 square feet to academics, and instead featured a 23,000-square-foot community center with a fitness room, game room, theater, pool and basketball court.</p>,\n",
       " <p class=\"css-exrw3m evys1bk0\">In another selling point, Tooker House was built to maintain high efficiency standards, earning it the LEED Gold certification, said <!-- -->Jason Wills<!-- -->, the chief marketing officer at American Campus. Rates for the upcoming school year are $8,460 to $9,080 per person, depending on whether the room is shared or private.</p>,\n",
       " <p class=\"css-exrw3m evys1bk0\">“This generation has grown up recycling, with solar, and being aware of consumption,” Mr. Wills said. “They expect their communities to reflect their values and what they’ve grown up with.”</p>,\n",
       " <p class=\"css-exrw3m evys1bk0\">When given a choice, students are also likely to choose higher-quality public spaces over large bedrooms, said <!-- -->Thomas Carlson-Reddig<!-- -->, the community practice leader at Little Diversified Architectural Consulting in Charlotte, N.C. His firm has experimented with space trade-offs in some “micro” student housing projects, including one in 2017 at the College of Charleston in South Carolina.</p>,\n",
       " <p class=\"css-exrw3m evys1bk0\">His firm designed the renovation of the <a class=\"css-1g7m0tk\" href=\"http://housing.cofc.edu/residence-halls/rutledge-rivers.php\" rel=\"noopener noreferrer\" target=\"_blank\" title=\"\">Rutledge Rivers Residence Hall</a>, dividing the space into apartments with four single and double sleeping pods clustered around a central living area and kitchen. The pods, with loft beds equipped with ledges for plugging in devices, are 75 to 105 square feet. A survey of residents conducted this year yielded “very positive” results, Mr. Carlson-Reddig said.</p>,\n",
       " <p class=\"css-exrw3m evys1bk0\">“We are looking at trying to create more efficient designs in order to give students more social space or a great outdoor hangout space,” he said. “And students are absolutely on board with that.”</p>,\n",
       " <p class=\"css-exrw3m evys1bk0\">Mr. Curtin said he believed housing designs would only continue to become “more strategically robust” in an effort to be responsive to the pressure that students feel to succeed. </p>,\n",
       " <p class=\"css-exrw3m evys1bk0\">A <a class=\"css-1g7m0tk\" href=\"https://housing.uic.edu/residentialcomplex/\" rel=\"noopener noreferrer\" target=\"_blank\" title=\"\">550-student complex</a> his firm worked on for the University of Illinois in Chicago is trying something new in this regard: integrating 52,000 square feet of academic space, including classrooms, lecture halls and a tutoring center, into the residence hall. Scheduled to open this fall, the complex will also have a ground-floor cafe and study lounges on every floor. Rates will range from $9,550 to $13,560 per person per year.</p>,\n",
       " <p class=\"css-exrw3m evys1bk0\">“You’ve got full-fledged academic space sharing a lobby with a residence hall,” Mr. Curtin said. “It opens the door to so many possibilities, like extending the hours of academic use and having resources available to students off-hours. We think it’s going to be a whole new way of looking at mixed use on campuses.”</p>]"
      ]
     },
     "execution_count": 54,
     "metadata": {},
     "output_type": "execute_result"
    }
   ],
   "source": [
    "collect_paragraphs(soup)"
   ]
  },
  {
   "cell_type": "code",
   "execution_count": null,
   "metadata": {},
   "outputs": [],
   "source": []
  },
  {
   "cell_type": "code",
   "execution_count": 71,
   "metadata": {},
   "outputs": [],
   "source": [
    "nyt_articles_content  = dict()\n",
    "s = requests.session()\n",
    "for href in nyt_article_refs:\n",
    "    response = s.get('https://nytimes.com/{0}'.format(href))\n",
    "    soup = BeautifulSoup(response.content.decode('utf-8', 'ignore'), 'html.parser')\n",
    "    entry = str(href).split('/')[-1].replace('.html', '').replace('#commentsContainer', '')\n",
    "    title = soup.find('title').text.replace(' - The New York Times', '')\n",
    "    author = find_author(soup, href)\n",
    "    article_text = collect_paragraphs(soup)\n",
    "    nyt_articles_content[entry] = { 'body': article_text, 'params': {'title': title, 'author': author, 'link': str(href) } }\n",
    "                                   \n",
    "                                   "
   ]
  },
  {
   "cell_type": "code",
   "execution_count": 72,
   "metadata": {},
   "outputs": [
    {
     "name": "stdout",
     "output_type": "stream",
     "text": [
      "dict_keys(['reparations-discussion', 'tips', 'migrant-children-border', 'migrants-emergency-aid-border', 'trump-minnesota-mine', 'iran-rouhani-us-sanctions', 'iran-sanctions-response', 'jean-carroll-trump', 'cory-booker-debate', 'democrats-2020-emails', 'student-loan-debt-forgiveness', 'nigerian-food-yewande-komolafe', 'taxes-debates-eli-broad', 'brain-injury-philosophy', 'marta-harnecker-latin-american-left', 'bourdain-antarctica-climate', 'boris-johnson-election', 'supreme-court-travel-ban-trump', '', 'joe-biden-electability-2020', 'republican-states-health-care', 'artificial-intelligence-depression', 'women-sex-toys-advertisements', 'iris-murdoch-centennial', 'college-dorm-uber-amenities'])\n"
     ]
    }
   ],
   "source": [
    "print(nyt_articles_content.keys())"
   ]
  },
  {
   "cell_type": "code",
   "execution_count": 73,
   "metadata": {},
   "outputs": [],
   "source": [
    "keys = list(nyt_articles_content.keys())"
   ]
  },
  {
   "cell_type": "code",
   "execution_count": 80,
   "metadata": {},
   "outputs": [],
   "source": [
    "for i, key in enumerate(keys):\n",
    "    with open('articles/{}.html'.format(key), 'w+') as outfile:\n",
    "        outfile.write(str(nyt_articles_content[key]['params']))\n",
    "        outfile.write(str(nyt_articles_content[key]['body']))"
   ]
  },
  {
   "cell_type": "code",
   "execution_count": 77,
   "metadata": {},
   "outputs": [
    {
     "name": "stdout",
     "output_type": "stream",
     "text": [
      "By Hiroko Tabuchi and Steve Eder\n"
     ]
    }
   ],
   "source": [
    "print(nyt_articles_content[keys[4]]['params']['author'])"
   ]
  },
  {
   "cell_type": "code",
   "execution_count": null,
   "metadata": {},
   "outputs": [],
   "source": []
  }
 ],
 "metadata": {
  "kernelspec": {
   "display_name": "Python [conda env:py36]",
   "language": "python",
   "name": "conda-env-py36-py"
  },
  "language_info": {
   "codemirror_mode": {
    "name": "ipython",
    "version": 3
   },
   "file_extension": ".py",
   "mimetype": "text/x-python",
   "name": "python",
   "nbconvert_exporter": "python",
   "pygments_lexer": "ipython3",
   "version": "3.6.3"
  }
 },
 "nbformat": 4,
 "nbformat_minor": 2
}
