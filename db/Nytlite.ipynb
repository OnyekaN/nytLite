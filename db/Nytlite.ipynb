{
 "cells": [
  {
   "cell_type": "code",
   "execution_count": 256,
   "metadata": {},
   "outputs": [],
   "source": [
    "import os, re, sys, json, pickle, requests, psycopg2\n",
    "import pandas as pd\n",
    "from bs4 import BeautifulSoup\n",
    "from unidecode import unidecode"
   ]
  },
  {
   "cell_type": "code",
   "execution_count": 257,
   "metadata": {},
   "outputs": [],
   "source": [
    "nyt_home_link = \"https://www.nytimes.com/\"\n",
    "nyt_home_response = requests.get(nyt_home_link, timeout=5)\n",
    "nyt_home_soup = BeautifulSoup(nyt_home_response.content, \"html.parser\")"
   ]
  },
  {
   "cell_type": "code",
   "execution_count": 258,
   "metadata": {},
   "outputs": [],
   "source": [
    "nyt_articles = nyt_home_soup.find_all(\"article\")"
   ]
  },
  {
   "cell_type": "code",
   "execution_count": 259,
   "metadata": {},
   "outputs": [],
   "source": [
    "nyt_article_refs = list()\n",
    "for article in nyt_articles:\n",
    "    anchors = article.find_all(\"a\")\n",
    "    for a in anchors:\n",
    "        nyt_article_refs.append(a[\"href\"])"
   ]
  },
  {
   "cell_type": "code",
   "execution_count": 260,
   "metadata": {},
   "outputs": [],
   "source": [
    "nyt_article_refs = [href for href in nyt_article_refs if 'podcast' not in href]\n",
    "nyt_article_refs = [href for href in nyt_article_refs if 'interactive' not in href]\n",
    "nyt_article_refs = [href for href in nyt_article_refs if 'crosswords' not in href]\n",
    "nyt_article_refs = [href for href in nyt_article_refs if 'weekly' not in href]"
   ]
  },
  {
   "cell_type": "code",
   "execution_count": 261,
   "metadata": {},
   "outputs": [
    {
     "data": {
      "text/plain": [
       "['/2019/07/09/briefing/jeffrey-epstein-turkey-coco-gauff.html',\n",
       " '/2019/07/09/briefing/jeffrey-epstein-turkey-coco-gauff.html',\n",
       " '/2019/07/09/health/obamacare-appeals-court.html',\n",
       " '/2019/07/09/health/obamacare-appeals-court.html#commentsContainer',\n",
       " '/2019/07/09/health/obamacare-appeals-court.html',\n",
       " '/2019/07/08/nyregion/jeffrey-epstein-charges.html',\n",
       " '/2019/07/08/nyregion/jeffrey-epstein-charges.html#commentsContainer',\n",
       " '/2019/07/08/nyregion/jeffrey-epstein-nyc-mansion.html',\n",
       " '/2019/07/08/us/politics/william-barr-census-citizenship.html',\n",
       " '/2019/07/08/us/politics/william-barr-census-citizenship.html',\n",
       " '/2019/07/08/us/politics/william-barr-census-citizenship.html#commentsContainer',\n",
       " '/2019/07/09/us/politics/republican-women-congress.html',\n",
       " '/2019/07/09/us/politics/republican-women-congress.html#commentsContainer',\n",
       " '/2019/07/09/us/politics/tom-steyer-president.html',\n",
       " '/2019/07/09/us/politics/amy-mcgrath-mitch-mcconnell.html',\n",
       " '/2019/07/09/business/economy/recession-world-economy-federal-reserve.html',\n",
       " '/2019/07/09/business/economy/recession-world-economy-federal-reserve.html#commentsContainer',\n",
       " '/2019/07/09/business/uk-pound-dollar.html',\n",
       " '/2019/07/08/arts/music/rosalia-j-balvin-con-altura.html',\n",
       " '/2019/07/08/opinion/epstein-indictment.html',\n",
       " '/2019/07/08/opinion/epstein-indictment.html#commentsContainer',\n",
       " '/2019/07/08/opinion/jeffrey-epstein-trump.html',\n",
       " '/2019/07/08/opinion/jeffrey-epstein-trump.html#commentsContainer',\n",
       " '/2019/07/08/opinion/jeffrey-epstein-trump.html',\n",
       " '/2019/07/09/opinion/marianne-williamson-meaning-democratic-primary.html',\n",
       " '/2019/07/09/opinion/biden-harris-busing.html',\n",
       " '/2019/07/08/opinion/world-cup-2019-trump.html',\n",
       " '/2019/07/09/opinion/new-york-immigration-court.html',\n",
       " '/2019/07/08/opinion/trump-migrants-detention-centers.html',\n",
       " '/2019/07/08/opinion/greece-elections.html',\n",
       " '/2019/07/08/opinion/iran-trump.html',\n",
       " '/2019/07/08/opinion/world-cup-usa-pay.html',\n",
       " '/2019/07/08/opinion/trump-2020.html',\n",
       " '/2019/07/09/sports/baseball/justin-verlander-all-star-sleep.html',\n",
       " '/2019/07/09/sports/baseball/justin-verlander-all-star-sleep.html',\n",
       " '/2019/07/08/books/review-higher-etiquette-cannabis-lizzie-post.html',\n",
       " '/2019/07/08/books/review-higher-etiquette-cannabis-lizzie-post.html']"
      ]
     },
     "execution_count": 261,
     "metadata": {},
     "output_type": "execute_result"
    }
   ],
   "source": [
    "nyt_article_refs"
   ]
  },
  {
   "cell_type": "markdown",
   "metadata": {},
   "source": [
    "s = requests.session()\n",
    "\n",
    "response = s.get('https://nytimes.com/2019/05/17/briefing/iran-sat-taiwan.html')"
   ]
  },
  {
   "cell_type": "code",
   "execution_count": 262,
   "metadata": {},
   "outputs": [],
   "source": [
    "s = requests.session()\n",
    "response = s.get('https://nytimes.com/{0}'.format(nyt_article_refs[1]))\n",
    "soup = BeautifulSoup(response.content.decode('utf-8', 'ignore'), \"html.parser\")"
   ]
  },
  {
   "cell_type": "markdown",
   "metadata": {},
   "source": [
    "f = open('articles/example_raw_soup.html', 'w+')\n",
    "f.write(str(soup))\n",
    "f.close()"
   ]
  },
  {
   "cell_type": "code",
   "execution_count": 263,
   "metadata": {},
   "outputs": [
    {
     "name": "stdout",
     "output_type": "stream",
     "text": [
      "Jeffrey Epstein, Turkey, Coco Gauff: Your Tuesday Briefing - The New York Times\n"
     ]
    }
   ],
   "source": [
    "print(soup.find('title').text)"
   ]
  },
  {
   "cell_type": "code",
   "execution_count": 264,
   "metadata": {},
   "outputs": [],
   "source": [
    "def find_author(soup, href):\n",
    "    date = '-'.join(href.split('/')[1:4])\n",
    "    times = soup.find_all('time', {'datetime' : date})\n",
    "    parents = [t.parent.parent.parent for t in times]\n",
    "    author = ''\n",
    "    for parent in parents:\n",
    "        p = parent.find('p', {'itemprop' : 'author'})\n",
    "        if p:\n",
    "            author += p.text\n",
    "    return str(author)"
   ]
  },
  {
   "cell_type": "code",
   "execution_count": 265,
   "metadata": {},
   "outputs": [
    {
     "data": {
      "text/plain": [
       "'By Mike Ives'"
      ]
     },
     "execution_count": 265,
     "metadata": {},
     "output_type": "execute_result"
    }
   ],
   "source": [
    "find_author(soup, str(nyt_article_refs[1]))"
   ]
  },
  {
   "cell_type": "code",
   "execution_count": null,
   "metadata": {},
   "outputs": [],
   "source": []
  },
  {
   "cell_type": "code",
   "execution_count": 266,
   "metadata": {},
   "outputs": [],
   "source": [
    "def collect_paragraphs(soup):\n",
    "    body = soup.find_all('section', {'name': 'articleBody'})\n",
    "    paragraphs = list()\n",
    "    for b in body:\n",
    "        paragraphs.extend(b.find_all('p'))\n",
    "    paragraphs = [str(unidecode(p)) for p in paragraphs]\n",
    "    paragraphs = ''.join(paragraphs)\n",
    "    return paragraphs"
   ]
  },
  {
   "cell_type": "code",
   "execution_count": 267,
   "metadata": {},
   "outputs": [
    {
     "data": {
      "text/plain": [
       "'<p class=\"css-exrw3m evys1bk0\">(Want to get this briefing by email? Here’s the <a class=\"css-1g7m0tk\" href=\"https://www.nytimes.com/morning-briefing?module=inline\" title=\"\">sign-up</a>.)</p><p class=\"css-ma92ss evys1bk0\">Good morning.</p><p class=\"css-ma92ss evys1bk0\">We’re covering <strong class=\"css-8qgvsz ebyp5n10\">Jeffrey Epstein’s indictment</strong>, landmark <strong class=\"css-8qgvsz ebyp5n10\">peace talks for Afghanistan</strong>, and <strong class=\"css-8qgvsz ebyp5n10\">Elizabeth Warren’s fund-raising</strong>.</p><p class=\"css-exrw3m evys1bk0\">Federal prosecutors in Manhattan have <a class=\"css-1g7m0tk\" href=\"https://www.nytimes.com/2019/07/08/nyregion/jeffrey-epstein-charges.html?module=inline\" title=\"\">charged the financier with sex trafficking</a>, and they revealed that a trove of lewd photographs of girls had been discovered in a safe in his Manhattan mansion.</p><p class=\"css-exrw3m evys1bk0\">The indictment on Monday could prompt a moment of reckoning for the Justice Department, which has wrestled with accusations over a plea deal prosecutors struck with Mr. Epstein in a 2008 case that shielded him from federal prosecution. That deal was overseen by Alexander Acosta, then the U.S. attorney in Miami and now President Trump’s labor secretary.</p><p class=\"css-exrw3m evys1bk0\">After the indictment was released, Nancy Pelosi, the Democratic speaker of the House, called for Mr. Acosta to resign. Attorney General William Barr recused himself from the case, saying his former law firm had represented Mr. Epstein.</p><p class=\"css-exrw3m evys1bk0\"><strong class=\"css-8qgvsz ebyp5n10\">Closer look: </strong>Photographs of Woody Allen, former President Bill Clinton and Mohammed bin Salman, the crown prince of Saudi Arabia, <a class=\"css-1g7m0tk\" href=\"https://www.nytimes.com/2019/07/08/nyregion/jeffrey-epstein-nyc-mansion.html?module=inline\" title=\"\">hang in Mr. Epstein’s $56 million home</a>. </p><p class=\"css-exrw3m evys1bk0\"><strong class=\"css-8qgvsz ebyp5n10\">Opinion: </strong>Michelle Goldberg writes that Mr. Epstein’s case “<a class=\"css-1g7m0tk\" href=\"https://www.nytimes.com/2019/07/08/opinion/jeffrey-epstein-trump.html?module=inline\" title=\"\">reveals a deep corruption among mostly male elites across parties</a>, and the way the very rich can often purchase impunity for even the most loathsome of crimes.” </p><p class=\"css-exrw3m evys1bk0\">A federal appeals court panel will hear arguments today on whether a federal judge in Texas was right to strike down the Affordable Care Act. <a class=\"css-1g7m0tk\" href=\"https://www.nytimes.com/2019/07/09/health/obamacare-appeals-court.html?module=inline\" title=\"\">The case, which could end up at the Supreme Court</a>, threatens insurance protections for people with pre-existing medical conditions. </p><p class=\"css-exrw3m evys1bk0\">The battle is being fought with the 2020 elections as a backdrop, and the case already features in Democratic ads targeting President Trump and other Republicans.</p><p class=\"css-exrw3m evys1bk0\"><strong class=\"css-8qgvsz ebyp5n10\">The background: </strong><a class=\"css-1g7m0tk\" href=\"https://www.nytimes.com/2018/12/14/health/obamacare-unconstitutional-texas-judge.html?module=inline\" title=\"\">Republican state officials filed the initial suit</a> against the federal government, and the Trump administration has declined to offer a defense. </p><p class=\"css-exrw3m evys1bk0\"><strong class=\"css-8qgvsz ebyp5n10\">Related:</strong> A federal judge ruled on Monday that the Trump administration could not force pharmaceutical companies to <a class=\"css-1g7m0tk\" href=\"https://www.nytimes.com/2019/07/08/health/drug-prices-tv-ads-trump.html?module=inline\" title=\"\">disclose the list prices of their drugs in television ads</a>. </p><p class=\"css-exrw3m evys1bk0\"> </p><p class=\"css-exrw3m evys1bk0\">In North Carolina today, the pediatrician Joan Perry, above, is in a Republican primary runoff for a congressional seat. Her campaign is a test case of sorts for her party’s <a class=\"css-1g7m0tk\" href=\"https://www.nytimes.com/2019/07/09/us/politics/republican-women-congress.html?module=inline\" title=\"\">efforts to recruit and cultivate female candidates</a>.</p><p class=\"css-exrw3m evys1bk0\">As of last month, 187 Republican women had filed paperwork to run for the House in 2020, compared with 120 in the 2018 election cycle<!-- -->. The surge is happening partly because Republicans watched Democratic women make historic gains last year and decided to adopt a similar strategy.</p><p class=\"css-exrw3m evys1bk0\"><strong class=\"css-8qgvsz ebyp5n10\">Democrats: </strong>Tom Steyer, a California billionaire and activist, <a class=\"css-1g7m0tk\" href=\"https://www.nytimes.com/2019/07/08/us/politics/steyer-swalwell-2020.html?module=inline\" title=\"\">may enter the 2020 presidential contest today</a>, a day after a fellow Californian, Representative Eric Swalwell, said he was ending his own bid for the nomination.</p><p class=\"css-exrw3m evys1bk0\">Over the past few years, a portion of Buddhists have <a class=\"css-1g7m0tk\" href=\"https://www.nytimes.com/2019/07/08/world/asia/buddhism-militant-rise.html?module=inline\" title=\"\">waged deadly attacks against minority Muslim populations</a>, particularly in Sri Lanka and Myanmar. </p><p class=\"css-exrw3m evys1bk0\">The sense of grievance from followers of a generally pacifist religion might seem unlikely: In both countries, Buddhists constitute overwhelming majorities of the population. But some, especially those who subscribe to the purist Theravada strain of the faith, are increasingly convinced that they are under existential threat, particularly from an Islam struggling with its own violent fringe.</p><p class=\"css-exrw3m evys1bk0\"><strong class=\"css-8qgvsz ebyp5n10\">Quote of note: </strong>“Buddhist monks will say that they would never condone violence,” an anthropologist said. “But at the same time, they will also say that Buddhism or Buddhist states have to be defended by any means.”</p><p class=\"css-exrw3m evys1bk0\"></p><p class=\"css-exrw3m evys1bk0\">Facial recognition software can return more false matches for African-Americans than for white people, studies show, an effect experts call “algorithmic bias.” </p><p class=\"css-exrw3m evys1bk0\">A debate over police use of the technology in Detroit, whose share of black residents is larger than in any other sizable American city, underscores <a class=\"css-1g7m0tk\" href=\"https://www.nytimes.com/2019/07/08/us/detroit-facial-recognition-cameras.html?module=inline\" title=\"\">a broader reckoning over surveillance</a>.</p><p class=\"css-exrw3m evys1bk0\"><strong class=\"css-8qgvsz ebyp5n10\">Afghanistan talks:</strong> Representatives from the Taliban and the country’s government, meeting for a second day in Qatar, agreed today to <a class=\"css-1g7m0tk\" href=\"https://www.nytimes.com/2019/07/08/world/asia/afghanistan-taliban-peace-talks.html?module=inline\" title=\"\">a basic road map for negotiating a path to peace</a>.</p><p class=\"css-exrw3m evys1bk0\"><strong class=\"css-8qgvsz ebyp5n10\">Turkey’s economic crisis: </strong>The lira <a class=\"css-1g7m0tk\" href=\"https://www.nytimes.com/2019/07/08/business/turkey-economy-crisis.html?module=inline\" title=\"\">lost more than 3 percent of its value against the dollar</a> in early trading in Asia on Monday,<span class=\"css-8l6xbc evw5hdy0\"> </span>after President Recep Tayyip Erdogan abruptly dismissed the central bank governor over the weekend.<!-- --> </p><p class=\"css-exrw3m evys1bk0\"><strong class=\"css-8qgvsz ebyp5n10\">Cross-Atlantic strain:</strong> President Trump said on Monday that the White House would <a class=\"css-1g7m0tk\" href=\"https://www.nytimes.com/2019/07/08/us/politics/donald-trump-kim-darroch.html?module=inline\" title=\"\">no longer deal with Britain’s ambassador to the U.S</a>., after the leaking of confidential cables in which the envoy described the Trump administration as “clumsy and inept.” </p><p class=\"css-exrw3m evys1bk0\"><strong class=\"css-8qgvsz ebyp5n10\">Elizabeth Warren’s fund-raising:</strong> The Massachusetts senator <a class=\"css-1g7m0tk\" href=\"https://www.nytimes.com/2019/07/08/us/politics/elizabeth-warren-fundraising.html?module=inline\" title=\"\">raised $19.1 million in the second quarter</a> for her presidential bid, ahead of her main progressive rival, Senator Bernie Sanders of Vermont.</p><p class=\"css-exrw3m evys1bk0\"><strong class=\"css-8qgvsz ebyp5n10\">Census fight: </strong>Attorney General William Barr <!-- -->said that he believed the Trump administration could find a legal path to <a class=\"css-1g7m0tk\" href=\"https://www.nytimes.com/2019/07/08/us/politics/william-barr-census-citizenship.html?module=inline\" title=\"\">placing a citizenship question on the 2020 count</a>.</p><p class=\"css-exrw3m evys1bk0\"><strong class=\"css-8qgvsz ebyp5n10\">Snapshot: </strong>Above, the American astronaut Buzz Aldrin on the moon in 1969. For the 50th anniversary of the Apollo 11 mission, we <a class=\"css-1g7m0tk\" href=\"https://www.nytimes.com/2019/07/09/science/apollo-11-moon-landing-photos.html?module=inline\" title=\"\">compiled photographs from those 20 hours on our closest heavenly neighbor</a>.</p><p class=\"css-exrw3m evys1bk0\"><strong class=\"css-8qgvsz ebyp5n10\">Holocaust denial:</strong> A high school principal in Florida was <a class=\"css-1g7m0tk\" href=\"https://www.nytimes.com/2019/07/08/us/spanish-river-william-latson-holocaust.html?module=inline\" title=\"\">removed from his position</a> after refusing to say that the World War II-era genocide of six million Jews was a factual historical event.</p><p class=\"css-exrw3m evys1bk0\"><strong class=\"css-8qgvsz ebyp5n10\">Young tennis star’s run ends:</strong> Coco Gauff, a 15-year-old American, <a class=\"css-1g7m0tk\" href=\"https://www.nytimes.com/2019/07/08/sports/tennis/coco-gauff-simona-halep-wimbledon.html?module=inline\" title=\"\">ended an impressive Wimbledon debut</a> with a 6-3, 6-3 loss to Simona Halep on Monday.</p><p class=\"css-exrw3m evys1bk0\"><strong class=\"css-8qgvsz ebyp5n10\">Late-night comedy: </strong>Most shows are in reruns, so our column is taking the week off.</p><p class=\"css-exrw3m evys1bk0\"></p><p class=\"css-exrw3m evys1bk0\"><strong class=\"css-8qgvsz ebyp5n10\">What we’re reading:</strong> <a class=\"css-1g7m0tk\" href=\"https://www.theverge.com/2019/6/26/18744264/something-awful-youtube-moderation-rich-kyanka-lgbtq\" rel=\"noopener noreferrer\" target=\"_blank\" title=\"\">This piece from The Verge</a>. Michael Roston, a science editor, writes: “Nothing on the internet is ever really new. Bijan Stephen looks to Something Awful, a longtime online community, and considers how its founder long ago dealt with content-moderation issues like those now facing YouTube and Facebook.”</p><p class=\"css-exrw3m evys1bk0\"><strong class=\"css-8qgvsz ebyp5n10\">Cook: </strong><a class=\"css-1g7m0tk\" href=\"https://cooking.nytimes.com/recipes/1018322-one-pot-spaghetti-with-cherry-tomatoes-and-kale\" title=\"\">One-pot spaghetti with cherry tomatoes and kale</a> is a delicious way to avoid some washing up. (Our <a class=\"css-1g7m0tk\" href=\"https://www.nytimes.com/newsletters/five-weeknight-dishes?module=inline\" title=\"\">Five Weeknight Dishes</a> newsletter has more low-fuss ideas.)</p><p class=\"css-exrw3m evys1bk0\"><strong class=\"css-8qgvsz ebyp5n10\">Watch: </strong>Our critic called “<a class=\"css-1g7m0tk\" href=\"https://www.nytimes.com/2019/06/27/arts/television/the-rook-review-starz.html?module=inline\" title=\"\">The Rook</a>,” a new paranormal adventure series from Starz, polished and well thought out.</p><p class=\"css-exrw3m evys1bk0\"><strong class=\"css-8qgvsz ebyp5n10\">Listen: </strong>Ed Sheeran’s <a class=\"css-1g7m0tk\" href=\"https://www.youtube.com/watch?v=U1_0b7CkucA&amp;feature=youtu.be\" rel=\"noopener noreferrer\" target=\"_blank\" title=\"\">“Best Part of Me”</a> is a folky testimonial to insecurities — physical and psychological — with acoustic guitar, piano and hesitant vocal harmonies, <a class=\"css-1g7m0tk\" href=\"https://www.nytimes.com/2019/07/05/arts/music/playlist-miley-cyrus-post-malone-ed-sheeran.html?module=inline\" title=\"\">our chief popular music critic writes</a>.</p><p class=\"css-exrw3m evys1bk0\"><strong class=\"css-8qgvsz ebyp5n10\">Read: </strong>In “<a class=\"css-1g7m0tk\" href=\"https://www.nytimes.com/2019/07/08/books/review-higher-etiquette-cannabis-lizzie-post.html?module=inline\" title=\"\">Higher Etiquette</a>,” Lizzie Post — the great-great-granddaughter of Emily Post — argues that it’s time for cannabis to move away from its surfer and “Cheech and Chong” image.</p><p class=\"css-exrw3m evys1bk0\"><strong class=\"css-8qgvsz ebyp5n10\">Smarter Living: </strong>Jessica Grose, the lead editor of our Parenting site, is not a huge fan of the beach, but because she is “not totally evil,” she’s taking her children there anyway. Working with The Wirecutter, she recommends the gear to <a class=\"css-1g7m0tk\" href=\"https://parenting.nytimes.com/parent-life/family-beach-gear\" title=\"\">survive a day in the sun with children</a>. (Pro tip: Give them a big soft-bristled paintbrush to get rid of sand afterward.)</p><p class=\"css-exrw3m evys1bk0\">Also: Do you need <a class=\"css-1g7m0tk\" href=\"https://www.nytimes.com/2019/07/06/style/parenting-coaches-screen-time-phones.html?module=inline\" title=\"\">a coach to help raise children without screens</a>?</p><p class=\"css-exrw3m evys1bk0\">President Trump welcomes the leader of Qatar to the White House today, with plenty to discuss, including U.S. access to a pivotal air base and Qatar’s <a class=\"css-1g7m0tk\" href=\"https://www.nytimes.com/2018/12/19/world/middleeast/qatar-blockade-goods.html?module=inline\" title=\"\">warm relations with Iran</a>.</p><p class=\"css-exrw3m evys1bk0\">Qatar also has access to huge natural gas reserves. That wasn’t always a good thing: Natural gas, <a class=\"css-1g7m0tk\" href=\"https://giignl.org/sites/default/files/PUBLIC_AREA/About_LNG/4_LNG_Basics/lng_1_-_basic_properties_7.2.09_aacomments-aug09.pdf\" rel=\"noopener noreferrer\" target=\"_blank\" title=\"\">typically mostly methane</a>, was once seen as an expensive nuisance to oil drillers, and Qatar’s massive field was initially <a class=\"css-1g7m0tk\" href=\"https://www.nytimes.com/2018/01/22/world/middleeast/qatar-saudi-emir-boycott.html?module=inline\" title=\"\">a huge disappointment</a>.</p><p class=\"css-exrw3m evys1bk0\">The fortunes of Qatar improved sharply thanks to technology that liquefies natural gas, shrinking its volume, so specially outfitted freighters can make long-distance deliveries relatively cheaply. </p><p class=\"css-exrw3m evys1bk0\">Qatar now exports more liquefied natural gas than any other country, and a boom in global demand has made it very, very rich.</p><p class=\"css-exrw3m evys1bk0\">Australia, Russia and the U.S. are also major suppliers, but natural gas is not necessarily a ticket to wealth: <a class=\"css-1g7m0tk\" href=\"https://www.wsj.com/articles/the-u-s-is-overflowing-with-natural-gas-not-everyone-can-get-it-11562518355?mod=djem10point\" rel=\"noopener noreferrer\" target=\"_blank\" title=\"\">Uneven distribution in the U.S.</a> — along with growing environmental opposition — has led to price increases in some regions and <a class=\"css-1g7m0tk\" href=\"https://www.reuters.com/article/us-natgas-pipelines-flaring-explainer/explainer-why-are-us-natural-gas-prices-in-texas-below-zero-idUSKCN1RL2NL\" rel=\"noopener noreferrer\" target=\"_blank\" title=\"\">negative prices</a> in others.</p><p class=\"css-ma92ss evys1bk0\">That’s it for this briefing. See you next time.</p><p class=\"css-ma92ss evys1bk0\">— Mike</p><p class=\"css-jwz2nf etfikam0\"><strong class=\"css-8qgvsz ebyp5n10\">Thank you</strong><br/>To Mark Josephson and Eleanor Stanford for the break from the news. Jake Lucas wrote today’s Back Story. <!-- --> You can reach the team at <a class=\"css-1g7m0tk\" href=\"mailto:briefing@nytimes.com\" title=\"\">briefing@nytimes.com</a>. </p><p class=\"css-jwz2nf etfikam0\"><strong class=\"css-8qgvsz ebyp5n10\">P.S.</strong><br/>• We’re listening to “<a class=\"css-1g7m0tk\" href=\"https://www.nytimes.com/thedaily\" title=\"\">The Daily</a>.” Today’s episode is about Jeffrey Epstein.<br/>• Here’s today’s <a class=\"css-1g7m0tk\" href=\"https://www.nytimes.com/crosswords/game/mini\" title=\"\">Mini Crossword</a>, and a clue: Talk and talk and talk and talk (3 letters). <a class=\"css-1g7m0tk\" href=\"https://www.nytimes.com/crosswords\" title=\"\">You can find all our puzzles here</a>. <br/>• The New York Times has named a <a class=\"css-1g7m0tk\" href=\"https://www.nytco.com/press/andrew-higgins-named-moscow-bureau-chief/\" rel=\"noopener noreferrer\" target=\"_blank\" title=\"\">new Moscow bureau chief</a>: Andrew Higgins, a two-time Pulitzer Prize winner who is fluent in Russian, Mandarin and French.</p>'"
      ]
     },
     "execution_count": 267,
     "metadata": {},
     "output_type": "execute_result"
    }
   ],
   "source": [
    "collect_paragraphs(soup)"
   ]
  },
  {
   "cell_type": "code",
   "execution_count": 272,
   "metadata": {},
   "outputs": [],
   "source": [
    "def parse_article_soup(href, soup):\n",
    "    article = dict()\n",
    "    entry = str(href).split('/')[-1]\n",
    "    entry = entry.replace('.html', '')\n",
    "    entry = entry.replace('#commentsContainer', '')\n",
    "    article = dict()\n",
    "    article['entry'] = entry\n",
    "    article['meta'] = dict()\n",
    "    article['meta']['title'] = unidecode(soup.find('title').text.replace(' - The New York Times', ''))\n",
    "    article['meta']['author'] = find_author(soup, href)\n",
    "    try:\n",
    "        article['meta']['section'] = href.split('/')[4]\n",
    "    except:\n",
    "        pass\n",
    "    article['meta']['date'] = \"-\".join(href.split('/')[1:4])\n",
    "    article['meta']['href'] = str(href.split('/')[-1]).replace('#commentsContainer', '')\n",
    "    article['article_body'] = collect_paragraphs(soup)\n",
    "    return article"
   ]
  },
  {
   "cell_type": "code",
   "execution_count": 273,
   "metadata": {},
   "outputs": [
    {
     "data": {
      "text/plain": [
       "{'article_body': '<p class=\"css-exrw3m evys1bk0\">(Want to get this briefing by email? Here’s the <a class=\"css-1g7m0tk\" href=\"https://www.nytimes.com/morning-briefing?module=inline\" title=\"\">sign-up</a>.)</p><p class=\"css-ma92ss evys1bk0\">Good morning.</p><p class=\"css-ma92ss evys1bk0\">We’re covering <strong class=\"css-8qgvsz ebyp5n10\">Jeffrey Epstein’s indictment</strong>, landmark <strong class=\"css-8qgvsz ebyp5n10\">peace talks for Afghanistan</strong>, and <strong class=\"css-8qgvsz ebyp5n10\">Elizabeth Warren’s fund-raising</strong>.</p><p class=\"css-exrw3m evys1bk0\">Federal prosecutors in Manhattan have <a class=\"css-1g7m0tk\" href=\"https://www.nytimes.com/2019/07/08/nyregion/jeffrey-epstein-charges.html?module=inline\" title=\"\">charged the financier with sex trafficking</a>, and they revealed that a trove of lewd photographs of girls had been discovered in a safe in his Manhattan mansion.</p><p class=\"css-exrw3m evys1bk0\">The indictment on Monday could prompt a moment of reckoning for the Justice Department, which has wrestled with accusations over a plea deal prosecutors struck with Mr. Epstein in a 2008 case that shielded him from federal prosecution. That deal was overseen by Alexander Acosta, then the U.S. attorney in Miami and now President Trump’s labor secretary.</p><p class=\"css-exrw3m evys1bk0\">After the indictment was released, Nancy Pelosi, the Democratic speaker of the House, called for Mr. Acosta to resign. Attorney General William Barr recused himself from the case, saying his former law firm had represented Mr. Epstein.</p><p class=\"css-exrw3m evys1bk0\"><strong class=\"css-8qgvsz ebyp5n10\">Closer look: </strong>Photographs of Woody Allen, former President Bill Clinton and Mohammed bin Salman, the crown prince of Saudi Arabia, <a class=\"css-1g7m0tk\" href=\"https://www.nytimes.com/2019/07/08/nyregion/jeffrey-epstein-nyc-mansion.html?module=inline\" title=\"\">hang in Mr. Epstein’s $56 million home</a>. </p><p class=\"css-exrw3m evys1bk0\"><strong class=\"css-8qgvsz ebyp5n10\">Opinion: </strong>Michelle Goldberg writes that Mr. Epstein’s case “<a class=\"css-1g7m0tk\" href=\"https://www.nytimes.com/2019/07/08/opinion/jeffrey-epstein-trump.html?module=inline\" title=\"\">reveals a deep corruption among mostly male elites across parties</a>, and the way the very rich can often purchase impunity for even the most loathsome of crimes.” </p><p class=\"css-exrw3m evys1bk0\">A federal appeals court panel will hear arguments today on whether a federal judge in Texas was right to strike down the Affordable Care Act. <a class=\"css-1g7m0tk\" href=\"https://www.nytimes.com/2019/07/09/health/obamacare-appeals-court.html?module=inline\" title=\"\">The case, which could end up at the Supreme Court</a>, threatens insurance protections for people with pre-existing medical conditions. </p><p class=\"css-exrw3m evys1bk0\">The battle is being fought with the 2020 elections as a backdrop, and the case already features in Democratic ads targeting President Trump and other Republicans.</p><p class=\"css-exrw3m evys1bk0\"><strong class=\"css-8qgvsz ebyp5n10\">The background: </strong><a class=\"css-1g7m0tk\" href=\"https://www.nytimes.com/2018/12/14/health/obamacare-unconstitutional-texas-judge.html?module=inline\" title=\"\">Republican state officials filed the initial suit</a> against the federal government, and the Trump administration has declined to offer a defense. </p><p class=\"css-exrw3m evys1bk0\"><strong class=\"css-8qgvsz ebyp5n10\">Related:</strong> A federal judge ruled on Monday that the Trump administration could not force pharmaceutical companies to <a class=\"css-1g7m0tk\" href=\"https://www.nytimes.com/2019/07/08/health/drug-prices-tv-ads-trump.html?module=inline\" title=\"\">disclose the list prices of their drugs in television ads</a>. </p><p class=\"css-exrw3m evys1bk0\"> </p><p class=\"css-exrw3m evys1bk0\">In North Carolina today, the pediatrician Joan Perry, above, is in a Republican primary runoff for a congressional seat. Her campaign is a test case of sorts for her party’s <a class=\"css-1g7m0tk\" href=\"https://www.nytimes.com/2019/07/09/us/politics/republican-women-congress.html?module=inline\" title=\"\">efforts to recruit and cultivate female candidates</a>.</p><p class=\"css-exrw3m evys1bk0\">As of last month, 187 Republican women had filed paperwork to run for the House in 2020, compared with 120 in the 2018 election cycle<!-- -->. The surge is happening partly because Republicans watched Democratic women make historic gains last year and decided to adopt a similar strategy.</p><p class=\"css-exrw3m evys1bk0\"><strong class=\"css-8qgvsz ebyp5n10\">Democrats: </strong>Tom Steyer, a California billionaire and activist, <a class=\"css-1g7m0tk\" href=\"https://www.nytimes.com/2019/07/08/us/politics/steyer-swalwell-2020.html?module=inline\" title=\"\">may enter the 2020 presidential contest today</a>, a day after a fellow Californian, Representative Eric Swalwell, said he was ending his own bid for the nomination.</p><p class=\"css-exrw3m evys1bk0\">Over the past few years, a portion of Buddhists have <a class=\"css-1g7m0tk\" href=\"https://www.nytimes.com/2019/07/08/world/asia/buddhism-militant-rise.html?module=inline\" title=\"\">waged deadly attacks against minority Muslim populations</a>, particularly in Sri Lanka and Myanmar. </p><p class=\"css-exrw3m evys1bk0\">The sense of grievance from followers of a generally pacifist religion might seem unlikely: In both countries, Buddhists constitute overwhelming majorities of the population. But some, especially those who subscribe to the purist Theravada strain of the faith, are increasingly convinced that they are under existential threat, particularly from an Islam struggling with its own violent fringe.</p><p class=\"css-exrw3m evys1bk0\"><strong class=\"css-8qgvsz ebyp5n10\">Quote of note: </strong>“Buddhist monks will say that they would never condone violence,” an anthropologist said. “But at the same time, they will also say that Buddhism or Buddhist states have to be defended by any means.”</p><p class=\"css-exrw3m evys1bk0\"></p><p class=\"css-exrw3m evys1bk0\">Facial recognition software can return more false matches for African-Americans than for white people, studies show, an effect experts call “algorithmic bias.” </p><p class=\"css-exrw3m evys1bk0\">A debate over police use of the technology in Detroit, whose share of black residents is larger than in any other sizable American city, underscores <a class=\"css-1g7m0tk\" href=\"https://www.nytimes.com/2019/07/08/us/detroit-facial-recognition-cameras.html?module=inline\" title=\"\">a broader reckoning over surveillance</a>.</p><p class=\"css-exrw3m evys1bk0\"><strong class=\"css-8qgvsz ebyp5n10\">Afghanistan talks:</strong> Representatives from the Taliban and the country’s government, meeting for a second day in Qatar, agreed today to <a class=\"css-1g7m0tk\" href=\"https://www.nytimes.com/2019/07/08/world/asia/afghanistan-taliban-peace-talks.html?module=inline\" title=\"\">a basic road map for negotiating a path to peace</a>.</p><p class=\"css-exrw3m evys1bk0\"><strong class=\"css-8qgvsz ebyp5n10\">Turkey’s economic crisis: </strong>The lira <a class=\"css-1g7m0tk\" href=\"https://www.nytimes.com/2019/07/08/business/turkey-economy-crisis.html?module=inline\" title=\"\">lost more than 3 percent of its value against the dollar</a> in early trading in Asia on Monday,<span class=\"css-8l6xbc evw5hdy0\"> </span>after President Recep Tayyip Erdogan abruptly dismissed the central bank governor over the weekend.<!-- --> </p><p class=\"css-exrw3m evys1bk0\"><strong class=\"css-8qgvsz ebyp5n10\">Cross-Atlantic strain:</strong> President Trump said on Monday that the White House would <a class=\"css-1g7m0tk\" href=\"https://www.nytimes.com/2019/07/08/us/politics/donald-trump-kim-darroch.html?module=inline\" title=\"\">no longer deal with Britain’s ambassador to the U.S</a>., after the leaking of confidential cables in which the envoy described the Trump administration as “clumsy and inept.” </p><p class=\"css-exrw3m evys1bk0\"><strong class=\"css-8qgvsz ebyp5n10\">Elizabeth Warren’s fund-raising:</strong> The Massachusetts senator <a class=\"css-1g7m0tk\" href=\"https://www.nytimes.com/2019/07/08/us/politics/elizabeth-warren-fundraising.html?module=inline\" title=\"\">raised $19.1 million in the second quarter</a> for her presidential bid, ahead of her main progressive rival, Senator Bernie Sanders of Vermont.</p><p class=\"css-exrw3m evys1bk0\"><strong class=\"css-8qgvsz ebyp5n10\">Census fight: </strong>Attorney General William Barr <!-- -->said that he believed the Trump administration could find a legal path to <a class=\"css-1g7m0tk\" href=\"https://www.nytimes.com/2019/07/08/us/politics/william-barr-census-citizenship.html?module=inline\" title=\"\">placing a citizenship question on the 2020 count</a>.</p><p class=\"css-exrw3m evys1bk0\"><strong class=\"css-8qgvsz ebyp5n10\">Snapshot: </strong>Above, the American astronaut Buzz Aldrin on the moon in 1969. For the 50th anniversary of the Apollo 11 mission, we <a class=\"css-1g7m0tk\" href=\"https://www.nytimes.com/2019/07/09/science/apollo-11-moon-landing-photos.html?module=inline\" title=\"\">compiled photographs from those 20 hours on our closest heavenly neighbor</a>.</p><p class=\"css-exrw3m evys1bk0\"><strong class=\"css-8qgvsz ebyp5n10\">Holocaust denial:</strong> A high school principal in Florida was <a class=\"css-1g7m0tk\" href=\"https://www.nytimes.com/2019/07/08/us/spanish-river-william-latson-holocaust.html?module=inline\" title=\"\">removed from his position</a> after refusing to say that the World War II-era genocide of six million Jews was a factual historical event.</p><p class=\"css-exrw3m evys1bk0\"><strong class=\"css-8qgvsz ebyp5n10\">Young tennis star’s run ends:</strong> Coco Gauff, a 15-year-old American, <a class=\"css-1g7m0tk\" href=\"https://www.nytimes.com/2019/07/08/sports/tennis/coco-gauff-simona-halep-wimbledon.html?module=inline\" title=\"\">ended an impressive Wimbledon debut</a> with a 6-3, 6-3 loss to Simona Halep on Monday.</p><p class=\"css-exrw3m evys1bk0\"><strong class=\"css-8qgvsz ebyp5n10\">Late-night comedy: </strong>Most shows are in reruns, so our column is taking the week off.</p><p class=\"css-exrw3m evys1bk0\"></p><p class=\"css-exrw3m evys1bk0\"><strong class=\"css-8qgvsz ebyp5n10\">What we’re reading:</strong> <a class=\"css-1g7m0tk\" href=\"https://www.theverge.com/2019/6/26/18744264/something-awful-youtube-moderation-rich-kyanka-lgbtq\" rel=\"noopener noreferrer\" target=\"_blank\" title=\"\">This piece from The Verge</a>. Michael Roston, a science editor, writes: “Nothing on the internet is ever really new. Bijan Stephen looks to Something Awful, a longtime online community, and considers how its founder long ago dealt with content-moderation issues like those now facing YouTube and Facebook.”</p><p class=\"css-exrw3m evys1bk0\"><strong class=\"css-8qgvsz ebyp5n10\">Cook: </strong><a class=\"css-1g7m0tk\" href=\"https://cooking.nytimes.com/recipes/1018322-one-pot-spaghetti-with-cherry-tomatoes-and-kale\" title=\"\">One-pot spaghetti with cherry tomatoes and kale</a> is a delicious way to avoid some washing up. (Our <a class=\"css-1g7m0tk\" href=\"https://www.nytimes.com/newsletters/five-weeknight-dishes?module=inline\" title=\"\">Five Weeknight Dishes</a> newsletter has more low-fuss ideas.)</p><p class=\"css-exrw3m evys1bk0\"><strong class=\"css-8qgvsz ebyp5n10\">Watch: </strong>Our critic called “<a class=\"css-1g7m0tk\" href=\"https://www.nytimes.com/2019/06/27/arts/television/the-rook-review-starz.html?module=inline\" title=\"\">The Rook</a>,” a new paranormal adventure series from Starz, polished and well thought out.</p><p class=\"css-exrw3m evys1bk0\"><strong class=\"css-8qgvsz ebyp5n10\">Listen: </strong>Ed Sheeran’s <a class=\"css-1g7m0tk\" href=\"https://www.youtube.com/watch?v=U1_0b7CkucA&amp;feature=youtu.be\" rel=\"noopener noreferrer\" target=\"_blank\" title=\"\">“Best Part of Me”</a> is a folky testimonial to insecurities — physical and psychological — with acoustic guitar, piano and hesitant vocal harmonies, <a class=\"css-1g7m0tk\" href=\"https://www.nytimes.com/2019/07/05/arts/music/playlist-miley-cyrus-post-malone-ed-sheeran.html?module=inline\" title=\"\">our chief popular music critic writes</a>.</p><p class=\"css-exrw3m evys1bk0\"><strong class=\"css-8qgvsz ebyp5n10\">Read: </strong>In “<a class=\"css-1g7m0tk\" href=\"https://www.nytimes.com/2019/07/08/books/review-higher-etiquette-cannabis-lizzie-post.html?module=inline\" title=\"\">Higher Etiquette</a>,” Lizzie Post — the great-great-granddaughter of Emily Post — argues that it’s time for cannabis to move away from its surfer and “Cheech and Chong” image.</p><p class=\"css-exrw3m evys1bk0\"><strong class=\"css-8qgvsz ebyp5n10\">Smarter Living: </strong>Jessica Grose, the lead editor of our Parenting site, is not a huge fan of the beach, but because she is “not totally evil,” she’s taking her children there anyway. Working with The Wirecutter, she recommends the gear to <a class=\"css-1g7m0tk\" href=\"https://parenting.nytimes.com/parent-life/family-beach-gear\" title=\"\">survive a day in the sun with children</a>. (Pro tip: Give them a big soft-bristled paintbrush to get rid of sand afterward.)</p><p class=\"css-exrw3m evys1bk0\">Also: Do you need <a class=\"css-1g7m0tk\" href=\"https://www.nytimes.com/2019/07/06/style/parenting-coaches-screen-time-phones.html?module=inline\" title=\"\">a coach to help raise children without screens</a>?</p><p class=\"css-exrw3m evys1bk0\">President Trump welcomes the leader of Qatar to the White House today, with plenty to discuss, including U.S. access to a pivotal air base and Qatar’s <a class=\"css-1g7m0tk\" href=\"https://www.nytimes.com/2018/12/19/world/middleeast/qatar-blockade-goods.html?module=inline\" title=\"\">warm relations with Iran</a>.</p><p class=\"css-exrw3m evys1bk0\">Qatar also has access to huge natural gas reserves. That wasn’t always a good thing: Natural gas, <a class=\"css-1g7m0tk\" href=\"https://giignl.org/sites/default/files/PUBLIC_AREA/About_LNG/4_LNG_Basics/lng_1_-_basic_properties_7.2.09_aacomments-aug09.pdf\" rel=\"noopener noreferrer\" target=\"_blank\" title=\"\">typically mostly methane</a>, was once seen as an expensive nuisance to oil drillers, and Qatar’s massive field was initially <a class=\"css-1g7m0tk\" href=\"https://www.nytimes.com/2018/01/22/world/middleeast/qatar-saudi-emir-boycott.html?module=inline\" title=\"\">a huge disappointment</a>.</p><p class=\"css-exrw3m evys1bk0\">The fortunes of Qatar improved sharply thanks to technology that liquefies natural gas, shrinking its volume, so specially outfitted freighters can make long-distance deliveries relatively cheaply. </p><p class=\"css-exrw3m evys1bk0\">Qatar now exports more liquefied natural gas than any other country, and a boom in global demand has made it very, very rich.</p><p class=\"css-exrw3m evys1bk0\">Australia, Russia and the U.S. are also major suppliers, but natural gas is not necessarily a ticket to wealth: <a class=\"css-1g7m0tk\" href=\"https://www.wsj.com/articles/the-u-s-is-overflowing-with-natural-gas-not-everyone-can-get-it-11562518355?mod=djem10point\" rel=\"noopener noreferrer\" target=\"_blank\" title=\"\">Uneven distribution in the U.S.</a> — along with growing environmental opposition — has led to price increases in some regions and <a class=\"css-1g7m0tk\" href=\"https://www.reuters.com/article/us-natgas-pipelines-flaring-explainer/explainer-why-are-us-natural-gas-prices-in-texas-below-zero-idUSKCN1RL2NL\" rel=\"noopener noreferrer\" target=\"_blank\" title=\"\">negative prices</a> in others.</p><p class=\"css-ma92ss evys1bk0\">That’s it for this briefing. See you next time.</p><p class=\"css-ma92ss evys1bk0\">— Mike</p><p class=\"css-jwz2nf etfikam0\"><strong class=\"css-8qgvsz ebyp5n10\">Thank you</strong><br/>To Mark Josephson and Eleanor Stanford for the break from the news. Jake Lucas wrote today’s Back Story. <!-- --> You can reach the team at <a class=\"css-1g7m0tk\" href=\"mailto:briefing@nytimes.com\" title=\"\">briefing@nytimes.com</a>. </p><p class=\"css-jwz2nf etfikam0\"><strong class=\"css-8qgvsz ebyp5n10\">P.S.</strong><br/>• We’re listening to “<a class=\"css-1g7m0tk\" href=\"https://www.nytimes.com/thedaily\" title=\"\">The Daily</a>.” Today’s episode is about Jeffrey Epstein.<br/>• Here’s today’s <a class=\"css-1g7m0tk\" href=\"https://www.nytimes.com/crosswords/game/mini\" title=\"\">Mini Crossword</a>, and a clue: Talk and talk and talk and talk (3 letters). <a class=\"css-1g7m0tk\" href=\"https://www.nytimes.com/crosswords\" title=\"\">You can find all our puzzles here</a>. <br/>• The New York Times has named a <a class=\"css-1g7m0tk\" href=\"https://www.nytco.com/press/andrew-higgins-named-moscow-bureau-chief/\" rel=\"noopener noreferrer\" target=\"_blank\" title=\"\">new Moscow bureau chief</a>: Andrew Higgins, a two-time Pulitzer Prize winner who is fluent in Russian, Mandarin and French.</p>',\n",
       " 'entry': 'jeffrey-epstein-turkey-coco-gauff',\n",
       " 'meta': {'author': 'By Mike Ives',\n",
       "  'date': '2019-07-09',\n",
       "  'href': 'jeffrey-epstein-turkey-coco-gauff.html',\n",
       "  'section': 'briefing',\n",
       "  'title': 'Jeffrey Epstein, Turkey, Coco Gauff: Your Tuesday Briefing'}}"
      ]
     },
     "execution_count": 273,
     "metadata": {},
     "output_type": "execute_result"
    }
   ],
   "source": [
    "parse_article_soup(nyt_article_refs[1], soup)"
   ]
  },
  {
   "cell_type": "code",
   "execution_count": 274,
   "metadata": {},
   "outputs": [],
   "source": [
    "s = requests.session()\n",
    "current_nyt_articles = dict()\n",
    "\n",
    "for href in nyt_article_refs:\n",
    "    response = s.get('https://nytimes.com/{0}'.format(href))\n",
    "    soup = BeautifulSoup(response.content.decode('utf-8', 'ignore'), 'html.parser')\n",
    "    article = parse_article_soup(href, soup)\n",
    "    current_nyt_articles[article['entry']] = article\n",
    "                                   "
   ]
  },
  {
   "cell_type": "code",
   "execution_count": 276,
   "metadata": {},
   "outputs": [
    {
     "name": "stdout",
     "output_type": "stream",
     "text": [
      "{'title': 'Jeffrey Epstein, Turkey, Coco Gauff: Your Tuesday Briefing', 'author': 'By Mike Ives', 'section': 'briefing', 'date': '2019-07-09', 'href': 'jeffrey-epstein-turkey-coco-gauff.html'}\n"
     ]
    }
   ],
   "source": [
    "keys = list(current_nyt_articles.keys())\n",
    "print(current_nyt_articles[keys[0]]['meta'])"
   ]
  },
  {
   "cell_type": "code",
   "execution_count": 280,
   "metadata": {},
   "outputs": [],
   "source": [
    "nyt_articles_meta = dict()\n",
    "\n",
    "for i, key in enumerate(keys):\n",
    "    \n",
    "    article_file_path = '{}.html'.format(key)\n",
    "    nyt_articles_meta[key] = current_nyt_articles[key]['meta']\n",
    "    nyt_articles_meta[key]['file_path'] = article_file_path\n",
    "    \n",
    "    with open('../app/assets/articles/{}'.format(article_file_path), 'w+') as outfile:\n",
    "        outfile.write(str(current_nyt_articles[key]['article_body']))\n",
    "        "
   ]
  },
  {
   "cell_type": "code",
   "execution_count": 281,
   "metadata": {},
   "outputs": [],
   "source": [
    "try:\n",
    "    articles_dict = pickle.load(open('articles_meta.p', 'rb'))\n",
    "    articles_dict.update(nyt_articles_meta)\n",
    "except:\n",
    "    pass\n",
    "finally:\n",
    "    pickle.dump(nyt_articles_meta, open('articles_meta.p', 'ab'))"
   ]
  },
  {
   "cell_type": "code",
   "execution_count": 284,
   "metadata": {},
   "outputs": [
    {
     "name": "stdout",
     "output_type": "stream",
     "text": [
      "{'jeffrey-epstein-turkey-coco-gauff': {'title': 'Jeffrey Epstein, Turkey, Coco Gauff: Your Tuesday Briefing', 'author': 'By Mike Ives', 'section': 'briefing', 'date': '2019-07-09', 'href': 'jeffrey-epstein-turkey-coco-gauff.html', 'file_path': 'jeffrey-epstein-turkey-coco-gauff.html'}, 'obamacare-appeals-court': {'title': 'Obamacare in Jeopardy as Appeals Court Hears Case Backed by Trump', 'author': 'By Abby Goodnough', 'section': 'health', 'date': '2019-07-09', 'href': 'obamacare-appeals-court.html', 'file_path': 'obamacare-appeals-court.html'}, 'jeffrey-epstein-charges': {'title': \"Seized Photos of Nude Girls Deepens Questions About Jeffrey Epstein's 2008  Deal\", 'author': 'By Ali Watkins', 'section': 'nyregion', 'date': '2019-07-08', 'href': 'jeffrey-epstein-charges.html', 'file_path': 'jeffrey-epstein-charges.html'}, 'jeffrey-epstein-nyc-mansion': {'title': \"Inside Epstein's $56 Million Mansion: Photos of Bill Clinton, Woody Allen and Saudi Crown Prince\", 'author': 'By Matthew Haag', 'section': 'nyregion', 'date': '2019-07-08', 'href': 'jeffrey-epstein-nyc-mansion.html', 'file_path': 'jeffrey-epstein-nyc-mansion.html'}, 'william-barr-census-citizenship': {'title': 'Barr Says Legal Path to Census Citizenship Question Exists, but He Gives No Details', 'author': 'By Katie Benner', 'section': 'us', 'date': '2019-07-08', 'href': 'william-barr-census-citizenship.html', 'file_path': 'william-barr-census-citizenship.html'}, 'republican-women-congress': {'title': \"'It Can't Be Worse': How Republican Women Are Trying to Rebuild\", 'author': 'By Maggie Astor', 'section': 'us', 'date': '2019-07-09', 'href': 'republican-women-congress.html', 'file_path': 'republican-women-congress.html'}, 'tom-steyer-president': {'title': 'Tom Steyer Will Run for President and Plans to Spend $100 Million on His Bid', 'author': 'By Alexander Burns', 'section': 'us', 'date': '2019-07-09', 'href': 'tom-steyer-president.html', 'file_path': 'tom-steyer-president.html'}, 'amy-mcgrath-mitch-mcconnell': {'title': 'Amy McGrath Opens Challenge to Mitch McConnell in Kentucky', 'author': 'By Jennifer Steinhauer', 'section': 'us', 'date': '2019-07-09', 'href': 'amy-mcgrath-mitch-mcconnell.html', 'file_path': 'amy-mcgrath-mitch-mcconnell.html'}, 'recession-world-economy-federal-reserve': {'title': \"Global Recession Risks Are Up, and Central Banks Aren't Ready\", 'author': 'By Jeanna Smialek, Jack Ewing and Ben Dooley', 'section': 'business', 'date': '2019-07-09', 'href': 'recession-world-economy-federal-reserve.html', 'file_path': 'recession-world-economy-federal-reserve.html'}, 'uk-pound-dollar': {'title': 'British Pound Tumbles, Reflecting Economic Concerns in U.K.', 'author': 'By Kevin Granville and Amie Tsang', 'section': 'business', 'date': '2019-07-09', 'href': 'uk-pound-dollar.html', 'file_path': 'uk-pound-dollar.html'}, 'rosalia-j-balvin-con-altura': {'title': \"Spanish-Language Music Has Gone Global. Watch Rosalia Make Her Hit 'Con Altura'\", 'author': '', 'section': 'arts', 'date': '2019-07-08', 'href': 'rosalia-j-balvin-con-altura.html', 'file_path': 'rosalia-j-balvin-con-altura.html'}, 'epstein-indictment': {'title': 'Opinion | Who Protected Jeffrey Epstein?', 'author': 'By The Editorial Board', 'section': 'opinion', 'date': '2019-07-08', 'href': 'epstein-indictment.html', 'file_path': 'epstein-indictment.html'}, 'jeffrey-epstein-trump': {'title': 'Opinion | Jeffrey Epstein Is the Ultimate Symbol of Plutocratic Rot', 'author': 'By Michelle Goldberg', 'section': 'opinion', 'date': '2019-07-08', 'href': 'jeffrey-epstein-trump.html', 'file_path': 'jeffrey-epstein-trump.html'}, 'marianne-williamson-meaning-democratic-primary': {'title': 'Opinion | The Meaning of Marianne Williamson', 'author': 'By Ross Douthat', 'section': 'opinion', 'date': '2019-07-09', 'href': 'marianne-williamson-meaning-democratic-primary.html', 'file_path': 'marianne-williamson-meaning-democratic-primary.html'}, 'biden-harris-busing': {'title': 'Opinion | When Did Diversity Become Optional?', 'author': 'By Erin Aubry Kaplan', 'section': 'opinion', 'date': '2019-07-09', 'href': 'biden-harris-busing.html', 'file_path': 'biden-harris-busing.html'}, 'world-cup-2019-trump': {'title': 'Opinion | How the World Cup Team Beat Trump', 'author': 'By Charlie Warzel', 'section': 'opinion', 'date': '2019-07-08', 'href': 'world-cup-2019-trump.html', 'file_path': 'world-cup-2019-trump.html'}, 'new-york-immigration-court': {'title': 'Opinion | Upset by the Scenes on the Border? Look Closer to Home', 'author': 'By Maeve Higgins', 'section': 'opinion', 'date': '2019-07-09', 'href': 'new-york-immigration-court.html', 'file_path': 'new-york-immigration-court.html'}, 'trump-migrants-detention-centers': {'title': 'Opinion | Trump and the Merchants of Detention', 'author': 'By Paul Krugman', 'section': 'opinion', 'date': '2019-07-08', 'href': 'trump-migrants-detention-centers.html', 'file_path': 'trump-migrants-detention-centers.html'}, 'greece-elections': {'title': 'Opinion | Greece Is the Good News Story in Europe', 'author': 'By Roger Cohen', 'section': 'opinion', 'date': '2019-07-08', 'href': 'greece-elections.html', 'file_path': 'greece-elections.html'}, 'iran-trump': {'title': \"Opinion | Winners of the Nobel Peace Prize: Here's How to Stop War With Iran\", 'author': 'By Shirin Ebadi and Jody Williams', 'section': 'opinion', 'date': '2019-07-08', 'href': 'iran-trump.html', 'file_path': 'iran-trump.html'}, 'world-cup-usa-pay': {'title': 'Opinion | Show Them the Money', 'author': 'By The Editorial Board', 'section': 'opinion', 'date': '2019-07-08', 'href': 'world-cup-usa-pay.html', 'file_path': 'world-cup-usa-pay.html'}, 'trump-2020': {'title': \"Opinion | Why Isn't Trump Trying to Win the Center?\", 'author': 'By Jamelle Bouie', 'section': 'opinion', 'date': '2019-07-08', 'href': 'trump-2020.html', 'file_path': 'trump-2020.html'}, 'justin-verlander-all-star-sleep': {'title': \"Justin Verlander: The Astros' Ace and Sleep Guru\", 'author': 'By James Wagner', 'section': 'sports', 'date': '2019-07-09', 'href': 'justin-verlander-all-star-sleep.html', 'file_path': 'justin-verlander-all-star-sleep.html'}, 'review-higher-etiquette-cannabis-lizzie-post': {'title': \"Need Etiquette Tips for Cannabis? For Starters, Don't Call It 'Marijuana' or 'Weed'\", 'author': 'By Dwight Garner', 'section': 'books', 'date': '2019-07-08', 'href': 'review-higher-etiquette-cannabis-lizzie-post.html', 'file_path': 'review-higher-etiquette-cannabis-lizzie-post.html'}}\n"
     ]
    }
   ],
   "source": [
    "print(nyt_articles_meta)"
   ]
  },
  {
   "cell_type": "markdown",
   "metadata": {},
   "source": [
    "#### Build Database"
   ]
  },
  {
   "cell_type": "code",
   "execution_count": 329,
   "metadata": {},
   "outputs": [],
   "source": [
    "conn = psycopg2.connect(dbname='nytlitedb', user='gqe', host='localhost', password='')\n",
    "cursor = conn.cursor()"
   ]
  },
  {
   "cell_type": "code",
   "execution_count": 330,
   "metadata": {},
   "outputs": [],
   "source": [
    "cursor.execute('SELECT article_id FROM articles ORDER BY article_id DESC LIMIT 1;') "
   ]
  },
  {
   "cell_type": "code",
   "execution_count": 331,
   "metadata": {},
   "outputs": [],
   "source": [
    "create_table_sql = (\n",
    "                'DROP TABLE IF EXISTS articles;'\n",
    "                'CREATE TABLE articles ('\n",
    "                'article_id SERIAL PRIMARY KEY,'\n",
    "                'article_title text NOT NULL,'\n",
    "                'article_author text NOT NULL,'\n",
    "                'article_date text NOT NULL,'\n",
    "                'article_section text NOT NULL,'\n",
    "                'article_path text NOT NULL);'\n",
    "                )"
   ]
  },
  {
   "cell_type": "code",
   "execution_count": 332,
   "metadata": {},
   "outputs": [],
   "source": [
    "cursor.execute(create_table_sql)\n",
    "cursor.close()\n",
    "conn.commit()"
   ]
  },
  {
   "cell_type": "code",
   "execution_count": 333,
   "metadata": {},
   "outputs": [],
   "source": [
    "try:\n",
    "    articles_dict = pickle.load(open('articles_meta.p', 'rb'))\n",
    "    articles_dict.update(nyt_articles_meta)\n",
    "except:\n",
    "    pass"
   ]
  },
  {
   "cell_type": "code",
   "execution_count": 334,
   "metadata": {},
   "outputs": [],
   "source": [
    "def create_insert_commands(nyt_articles_meta):\n",
    "    keys = nyt_articles_meta.keys()\n",
    "    for key in keys:\n",
    "        article = nyt_articles_meta[key]\n",
    "        insert_SQL = (\n",
    "            \"INSERT INTO articles \"\n",
    "            \"(article_title, article_author, \"\n",
    "            \"article_date, article_section, article_path) \"\n",
    "            \"VALUES (%s, %s, %s, %s, %s);\")\n",
    "        values = [article['title'], article['author'], article['date'], \n",
    "                      article['section'], article['href']]\n",
    "        yield (insert_SQL, values)"
   ]
  },
  {
   "cell_type": "code",
   "execution_count": 335,
   "metadata": {},
   "outputs": [],
   "source": [
    "insert_commands = list(create_insert_commands(nyt_articles_meta))"
   ]
  },
  {
   "cell_type": "code",
   "execution_count": 336,
   "metadata": {},
   "outputs": [
    {
     "name": "stdout",
     "output_type": "stream",
     "text": [
      "('INSERT INTO articles (article_title, article_author, article_date, article_section, article_path) VALUES (%s, %s, %s, %s, %s);', [\"Seized Photos of Nude Girls Deepens Questions About Jeffrey Epstein's 2008  Deal\", 'By Ali Watkins', '2019-07-08', 'nyregion', 'jeffrey-epstein-charges.html'])\n"
     ]
    }
   ],
   "source": [
    "print(insert_commands[2])"
   ]
  },
  {
   "cell_type": "code",
   "execution_count": 337,
   "metadata": {},
   "outputs": [],
   "source": [
    "conn = psycopg2.connect(dbname='nytlitedb', user='gqe', host='localhost', password='')\n",
    "cursor = conn.cursor()\n",
    "\n",
    "for insert_command in insert_commands:\n",
    "    try:\n",
    "        cursor.execute(insert_command[0], insert_command[1])\n",
    "    except Exception as e:\n",
    "        print(e)\n",
    "        \n",
    "cursor.close()\n",
    "conn.commit()"
   ]
  },
  {
   "cell_type": "code",
   "execution_count": 338,
   "metadata": {},
   "outputs": [
    {
     "name": "stdout",
     "output_type": "stream",
     "text": [
      "(1, 'Jeffrey Epstein, Turkey, Coco Gauff: Your Tuesday Briefing', 'By Mike Ives', '2019-07-09', 'briefing', 'jeffrey-epstein-turkey-coco-gauff.html')\n",
      "(2, 'Obamacare in Jeopardy as Appeals Court Hears Case Backed by Trump', 'By Abby Goodnough', '2019-07-09', 'health', 'obamacare-appeals-court.html')\n",
      "(3, \"Seized Photos of Nude Girls Deepens Questions About Jeffrey Epstein's 2008  Deal\", 'By Ali Watkins', '2019-07-08', 'nyregion', 'jeffrey-epstein-charges.html')\n",
      "(4, \"Inside Epstein's $56 Million Mansion: Photos of Bill Clinton, Woody Allen and Saudi Crown Prince\", 'By Matthew Haag', '2019-07-08', 'nyregion', 'jeffrey-epstein-nyc-mansion.html')\n",
      "(5, 'Barr Says Legal Path to Census Citizenship Question Exists, but He Gives No Details', 'By Katie Benner', '2019-07-08', 'us', 'william-barr-census-citizenship.html')\n",
      "(6, \"'It Can't Be Worse': How Republican Women Are Trying to Rebuild\", 'By Maggie Astor', '2019-07-09', 'us', 'republican-women-congress.html')\n",
      "(7, 'Tom Steyer Will Run for President and Plans to Spend $100 Million on His Bid', 'By Alexander Burns', '2019-07-09', 'us', 'tom-steyer-president.html')\n",
      "(8, 'Amy McGrath Opens Challenge to Mitch McConnell in Kentucky', 'By Jennifer Steinhauer', '2019-07-09', 'us', 'amy-mcgrath-mitch-mcconnell.html')\n",
      "(9, \"Global Recession Risks Are Up, and Central Banks Aren't Ready\", 'By Jeanna Smialek, Jack Ewing and Ben Dooley', '2019-07-09', 'business', 'recession-world-economy-federal-reserve.html')\n",
      "(10, 'British Pound Tumbles, Reflecting Economic Concerns in U.K.', 'By Kevin Granville and Amie Tsang', '2019-07-09', 'business', 'uk-pound-dollar.html')\n",
      "(11, \"Spanish-Language Music Has Gone Global. Watch Rosalia Make Her Hit 'Con Altura'\", '', '2019-07-08', 'arts', 'rosalia-j-balvin-con-altura.html')\n",
      "(12, 'Opinion | Who Protected Jeffrey Epstein?', 'By The Editorial Board', '2019-07-08', 'opinion', 'epstein-indictment.html')\n",
      "(13, 'Opinion | Jeffrey Epstein Is the Ultimate Symbol of Plutocratic Rot', 'By Michelle Goldberg', '2019-07-08', 'opinion', 'jeffrey-epstein-trump.html')\n",
      "(14, 'Opinion | The Meaning of Marianne Williamson', 'By Ross Douthat', '2019-07-09', 'opinion', 'marianne-williamson-meaning-democratic-primary.html')\n",
      "(15, 'Opinion | When Did Diversity Become Optional?', 'By Erin Aubry Kaplan', '2019-07-09', 'opinion', 'biden-harris-busing.html')\n",
      "(16, 'Opinion | How the World Cup Team Beat Trump', 'By Charlie Warzel', '2019-07-08', 'opinion', 'world-cup-2019-trump.html')\n",
      "(17, 'Opinion | Upset by the Scenes on the Border? Look Closer to Home', 'By Maeve Higgins', '2019-07-09', 'opinion', 'new-york-immigration-court.html')\n",
      "(18, 'Opinion | Trump and the Merchants of Detention', 'By Paul Krugman', '2019-07-08', 'opinion', 'trump-migrants-detention-centers.html')\n",
      "(19, 'Opinion | Greece Is the Good News Story in Europe', 'By Roger Cohen', '2019-07-08', 'opinion', 'greece-elections.html')\n",
      "(20, \"Opinion | Winners of the Nobel Peace Prize: Here's How to Stop War With Iran\", 'By Shirin Ebadi and Jody Williams', '2019-07-08', 'opinion', 'iran-trump.html')\n",
      "(21, 'Opinion | Show Them the Money', 'By The Editorial Board', '2019-07-08', 'opinion', 'world-cup-usa-pay.html')\n",
      "(22, \"Opinion | Why Isn't Trump Trying to Win the Center?\", 'By Jamelle Bouie', '2019-07-08', 'opinion', 'trump-2020.html')\n",
      "(23, \"Justin Verlander: The Astros' Ace and Sleep Guru\", 'By James Wagner', '2019-07-09', 'sports', 'justin-verlander-all-star-sleep.html')\n",
      "(24, \"Need Etiquette Tips for Cannabis? For Starters, Don't Call It 'Marijuana' or 'Weed'\", 'By Dwight Garner', '2019-07-08', 'books', 'review-higher-etiquette-cannabis-lizzie-post.html')\n"
     ]
    }
   ],
   "source": [
    "conn = psycopg2.connect(dbname='nytlitedb', user='gqe', host='localhost', password='')\n",
    "cursor = conn.cursor()\n",
    "cursor.execute('SELECT * FROM articles ORDER BY article_id')\n",
    "\n",
    "rows = cursor.fetchall()\n",
    "for row in rows[:600]:\n",
    "    print(row)"
   ]
  },
  {
   "cell_type": "code",
   "execution_count": null,
   "metadata": {},
   "outputs": [],
   "source": []
  }
 ],
 "metadata": {
  "kernelspec": {
   "display_name": "Python [conda env:py36]",
   "language": "python",
   "name": "conda-env-py36-py"
  },
  "language_info": {
   "codemirror_mode": {
    "name": "ipython",
    "version": 3
   },
   "file_extension": ".py",
   "mimetype": "text/x-python",
   "name": "python",
   "nbconvert_exporter": "python",
   "pygments_lexer": "ipython3",
   "version": "3.6.3"
  }
 },
 "nbformat": 4,
 "nbformat_minor": 2
}
